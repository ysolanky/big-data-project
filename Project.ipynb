{
 "cells": [
  {
   "cell_type": "markdown",
   "id": "5e83e879-9fc4-48a1-a447-6d6161ee2e96",
   "metadata": {},
   "source": [
    "# Course project - Big Data Concepts\n",
    "## Yash Pratap Solanky"
   ]
  },
  {
   "cell_type": "markdown",
   "id": "25f75698-a9a9-46ac-b6dc-ab95a623a818",
   "metadata": {},
   "source": [
    "## Introduction \n",
    "### Cryptocurrencies have recently become a widely recognised way for many individuals to invest their money. Cryptocurrency values have increased dramatically during the last several years. As a result, I tried numerous ways to find an efficient and accurate model to predict the price using machine learning algorithms. For the course project, I analysed four cryptocurrencies and attempted to predict the price of bitcoin. The CSV time series data is uploaded to GitHub. The time-series data in CSV format is posted to GitHub. The GitHub repository is then cloned into a Jupyter notebook under the Google cloud platform's AI platform. The time-series graph and the prediction graph are then saved as png files and uploaded to Github and to a bucket on the Google cloud platform that has been created separately."
   ]
  },
  {
   "cell_type": "markdown",
   "id": "c8fd7782-4d6f-4e58-b4b7-7fc41f4df4b8",
   "metadata": {},
   "source": [
    "## Background \n",
    "### I attempted to predict cryptocurrencies due to the fluctuating nature and fluctuation in the values of cryptocurrencies since the pandemic has piqued the interest of people all around the world. We can completely compute, store, analyse, and predict this project on the Google cloud platform thanks to the usage of virtual machines. Although this project could have been completed on a local system, the usage of a virtual machine makes it extremely simple for anybody to replicate it for any time series data. It might be for stocks, cryptocurrency, or something else."
   ]
  },
  {
   "cell_type": "markdown",
   "id": "0713f93a-1f54-409c-a9f7-0ded03677641",
   "metadata": {},
   "source": [
    "## Methodology \n",
    "### Step 1 - Downloading the time series data of various cryptocurrencies from https://www.cryptodatadownload.com/. \n",
    "### Step 2 - Creating a repositorty and uploading the downloaded data on the repository\n",
    "### Step 3 - Creating a Jupyer notebook on AI platform on Google cloud platform. Then cloning the repository to this Jupyter enviroment\n",
    "### Step 4 - Performing exploratory data analysis on the data, performing data engineering( cleaning data, transforming data) and then using the final dataset to make prediction using ARIMA algorithm\n",
    "### Step 5 - Creating a google cloud platform bucket\n",
    "### Step 6 - Saving the graphs from the project to the bucket. \n",
    "### Step 7 - Making the graphs public from the bucket"
   ]
  },
  {
   "cell_type": "code",
   "execution_count": 2,
   "id": "d9ebfd5e-9d41-48f3-9949-28f155fc4a07",
   "metadata": {},
   "outputs": [],
   "source": [
    "import numpy as np\n",
    "import pandas as pd\n",
    "import matplotlib.pyplot as plt\n",
    "import sklearn as skl\n",
    "import seaborn as sns\n",
    "from datetime import datetime,date"
   ]
  },
  {
   "cell_type": "code",
   "execution_count": 3,
   "id": "6aa55c0f-7777-471b-bd36-9e2d56257f77",
   "metadata": {},
   "outputs": [],
   "source": [
    "# Import the data files. We are going to be analysing and predicting 3 separate cryptocurrencies. \n",
    "btc = pd.read_csv(\"Gemini_BTCUSD_d.csv\",skiprows=1) #Bitcoin\n",
    "eth = pd.read_csv(\"Gemini_ETHUSD_d.csv\",skiprows=1) #Ehtereum\n",
    "ltc = pd.read_csv(\"Gemini_LTCUSD_d.csv\",skiprows=1) #Litecoin\n",
    "dog = pd.read_csv(\"Gemini_DOGEUSD_d.csv\",skiprows=1) #Dogecoin"
   ]
  },
  {
   "cell_type": "code",
   "execution_count": 4,
   "id": "7ffc5e6c-7099-4edc-b8e8-f6b3ee9a5835",
   "metadata": {},
   "outputs": [
    {
     "data": {
      "text/html": [
       "<div>\n",
       "<style scoped>\n",
       "    .dataframe tbody tr th:only-of-type {\n",
       "        vertical-align: middle;\n",
       "    }\n",
       "\n",
       "    .dataframe tbody tr th {\n",
       "        vertical-align: top;\n",
       "    }\n",
       "\n",
       "    .dataframe thead th {\n",
       "        text-align: right;\n",
       "    }\n",
       "</style>\n",
       "<table border=\"1\" class=\"dataframe\">\n",
       "  <thead>\n",
       "    <tr style=\"text-align: right;\">\n",
       "      <th></th>\n",
       "      <th>unix</th>\n",
       "      <th>date</th>\n",
       "      <th>symbol</th>\n",
       "      <th>open</th>\n",
       "      <th>high</th>\n",
       "      <th>low</th>\n",
       "      <th>close</th>\n",
       "      <th>Volume BTC</th>\n",
       "      <th>Volume USD</th>\n",
       "    </tr>\n",
       "  </thead>\n",
       "  <tbody>\n",
       "    <tr>\n",
       "      <th>0</th>\n",
       "      <td>1651032000000</td>\n",
       "      <td>2022-04-27 04:00:00</td>\n",
       "      <td>BTC/USD</td>\n",
       "      <td>38344.79</td>\n",
       "      <td>39463.17</td>\n",
       "      <td>38316.92</td>\n",
       "      <td>39179.01</td>\n",
       "      <td>646.587599</td>\n",
       "      <td>2.533266e+07</td>\n",
       "    </tr>\n",
       "    <tr>\n",
       "      <th>1</th>\n",
       "      <td>1650945600000</td>\n",
       "      <td>2022-04-26 04:00:00</td>\n",
       "      <td>BTC/USD</td>\n",
       "      <td>40541.18</td>\n",
       "      <td>40783.69</td>\n",
       "      <td>37697.42</td>\n",
       "      <td>38344.79</td>\n",
       "      <td>1297.579024</td>\n",
       "      <td>4.975540e+07</td>\n",
       "    </tr>\n",
       "    <tr>\n",
       "      <th>2</th>\n",
       "      <td>1650859200000</td>\n",
       "      <td>2022-04-25 04:00:00</td>\n",
       "      <td>BTC/USD</td>\n",
       "      <td>39260.92</td>\n",
       "      <td>40765.94</td>\n",
       "      <td>38221.87</td>\n",
       "      <td>40541.18</td>\n",
       "      <td>1370.403628</td>\n",
       "      <td>5.555778e+07</td>\n",
       "    </tr>\n",
       "    <tr>\n",
       "      <th>3</th>\n",
       "      <td>1650772800000</td>\n",
       "      <td>2022-04-24 04:00:00</td>\n",
       "      <td>BTC/USD</td>\n",
       "      <td>39780.94</td>\n",
       "      <td>39933.07</td>\n",
       "      <td>38695.95</td>\n",
       "      <td>39260.92</td>\n",
       "      <td>515.669742</td>\n",
       "      <td>2.024567e+07</td>\n",
       "    </tr>\n",
       "    <tr>\n",
       "      <th>4</th>\n",
       "      <td>1650686400000</td>\n",
       "      <td>2022-04-23 04:00:00</td>\n",
       "      <td>BTC/USD</td>\n",
       "      <td>39482.00</td>\n",
       "      <td>39988.99</td>\n",
       "      <td>39299.82</td>\n",
       "      <td>39780.94</td>\n",
       "      <td>402.215227</td>\n",
       "      <td>1.600050e+07</td>\n",
       "    </tr>\n",
       "  </tbody>\n",
       "</table>\n",
       "</div>"
      ],
      "text/plain": [
       "            unix                 date   symbol      open      high       low  \\\n",
       "0  1651032000000  2022-04-27 04:00:00  BTC/USD  38344.79  39463.17  38316.92   \n",
       "1  1650945600000  2022-04-26 04:00:00  BTC/USD  40541.18  40783.69  37697.42   \n",
       "2  1650859200000  2022-04-25 04:00:00  BTC/USD  39260.92  40765.94  38221.87   \n",
       "3  1650772800000  2022-04-24 04:00:00  BTC/USD  39780.94  39933.07  38695.95   \n",
       "4  1650686400000  2022-04-23 04:00:00  BTC/USD  39482.00  39988.99  39299.82   \n",
       "\n",
       "      close   Volume BTC    Volume USD  \n",
       "0  39179.01   646.587599  2.533266e+07  \n",
       "1  38344.79  1297.579024  4.975540e+07  \n",
       "2  40541.18  1370.403628  5.555778e+07  \n",
       "3  39260.92   515.669742  2.024567e+07  \n",
       "4  39780.94   402.215227  1.600050e+07  "
      ]
     },
     "execution_count": 4,
     "metadata": {},
     "output_type": "execute_result"
    }
   ],
   "source": [
    "btc.head()"
   ]
  },
  {
   "cell_type": "code",
   "execution_count": 5,
   "id": "48d3d4cf-7e20-444d-8ac3-c1f3f7df36b7",
   "metadata": {},
   "outputs": [],
   "source": [
    "for i in [btc, eth, ltc, dog]:\n",
    "    i.drop(columns = [\"unix\",\"symbol\"],inplace = True)"
   ]
  },
  {
   "cell_type": "code",
   "execution_count": 6,
   "id": "567c747c-c02e-401c-b0f4-58ab4c06ca1f",
   "metadata": {},
   "outputs": [
    {
     "data": {
      "text/html": [
       "<div>\n",
       "<style scoped>\n",
       "    .dataframe tbody tr th:only-of-type {\n",
       "        vertical-align: middle;\n",
       "    }\n",
       "\n",
       "    .dataframe tbody tr th {\n",
       "        vertical-align: top;\n",
       "    }\n",
       "\n",
       "    .dataframe thead th {\n",
       "        text-align: right;\n",
       "    }\n",
       "</style>\n",
       "<table border=\"1\" class=\"dataframe\">\n",
       "  <thead>\n",
       "    <tr style=\"text-align: right;\">\n",
       "      <th></th>\n",
       "      <th>date</th>\n",
       "      <th>open</th>\n",
       "      <th>high</th>\n",
       "      <th>low</th>\n",
       "      <th>close</th>\n",
       "      <th>Volume BTC</th>\n",
       "      <th>Volume USD</th>\n",
       "    </tr>\n",
       "  </thead>\n",
       "  <tbody>\n",
       "    <tr>\n",
       "      <th>0</th>\n",
       "      <td>2022-04-27 04:00:00</td>\n",
       "      <td>38344.79</td>\n",
       "      <td>39463.17</td>\n",
       "      <td>38316.92</td>\n",
       "      <td>39179.01</td>\n",
       "      <td>646.587599</td>\n",
       "      <td>2.533266e+07</td>\n",
       "    </tr>\n",
       "    <tr>\n",
       "      <th>1</th>\n",
       "      <td>2022-04-26 04:00:00</td>\n",
       "      <td>40541.18</td>\n",
       "      <td>40783.69</td>\n",
       "      <td>37697.42</td>\n",
       "      <td>38344.79</td>\n",
       "      <td>1297.579024</td>\n",
       "      <td>4.975540e+07</td>\n",
       "    </tr>\n",
       "    <tr>\n",
       "      <th>2</th>\n",
       "      <td>2022-04-25 04:00:00</td>\n",
       "      <td>39260.92</td>\n",
       "      <td>40765.94</td>\n",
       "      <td>38221.87</td>\n",
       "      <td>40541.18</td>\n",
       "      <td>1370.403628</td>\n",
       "      <td>5.555778e+07</td>\n",
       "    </tr>\n",
       "    <tr>\n",
       "      <th>3</th>\n",
       "      <td>2022-04-24 04:00:00</td>\n",
       "      <td>39780.94</td>\n",
       "      <td>39933.07</td>\n",
       "      <td>38695.95</td>\n",
       "      <td>39260.92</td>\n",
       "      <td>515.669742</td>\n",
       "      <td>2.024567e+07</td>\n",
       "    </tr>\n",
       "    <tr>\n",
       "      <th>4</th>\n",
       "      <td>2022-04-23 04:00:00</td>\n",
       "      <td>39482.00</td>\n",
       "      <td>39988.99</td>\n",
       "      <td>39299.82</td>\n",
       "      <td>39780.94</td>\n",
       "      <td>402.215227</td>\n",
       "      <td>1.600050e+07</td>\n",
       "    </tr>\n",
       "  </tbody>\n",
       "</table>\n",
       "</div>"
      ],
      "text/plain": [
       "                  date      open      high       low     close   Volume BTC  \\\n",
       "0  2022-04-27 04:00:00  38344.79  39463.17  38316.92  39179.01   646.587599   \n",
       "1  2022-04-26 04:00:00  40541.18  40783.69  37697.42  38344.79  1297.579024   \n",
       "2  2022-04-25 04:00:00  39260.92  40765.94  38221.87  40541.18  1370.403628   \n",
       "3  2022-04-24 04:00:00  39780.94  39933.07  38695.95  39260.92   515.669742   \n",
       "4  2022-04-23 04:00:00  39482.00  39988.99  39299.82  39780.94   402.215227   \n",
       "\n",
       "     Volume USD  \n",
       "0  2.533266e+07  \n",
       "1  4.975540e+07  \n",
       "2  5.555778e+07  \n",
       "3  2.024567e+07  \n",
       "4  1.600050e+07  "
      ]
     },
     "execution_count": 6,
     "metadata": {},
     "output_type": "execute_result"
    }
   ],
   "source": [
    "btc.head()"
   ]
  },
  {
   "cell_type": "code",
   "execution_count": 7,
   "id": "100c8504-4d64-44fa-825f-75e7fee97fcb",
   "metadata": {},
   "outputs": [
    {
     "data": {
      "text/html": [
       "<div>\n",
       "<style scoped>\n",
       "    .dataframe tbody tr th:only-of-type {\n",
       "        vertical-align: middle;\n",
       "    }\n",
       "\n",
       "    .dataframe tbody tr th {\n",
       "        vertical-align: top;\n",
       "    }\n",
       "\n",
       "    .dataframe thead th {\n",
       "        text-align: right;\n",
       "    }\n",
       "</style>\n",
       "<table border=\"1\" class=\"dataframe\">\n",
       "  <thead>\n",
       "    <tr style=\"text-align: right;\">\n",
       "      <th></th>\n",
       "      <th>open</th>\n",
       "      <th>high</th>\n",
       "      <th>low</th>\n",
       "      <th>close</th>\n",
       "      <th>Volume BTC</th>\n",
       "      <th>Volume USD</th>\n",
       "    </tr>\n",
       "  </thead>\n",
       "  <tbody>\n",
       "    <tr>\n",
       "      <th>count</th>\n",
       "      <td>2394.000000</td>\n",
       "      <td>2394.000000</td>\n",
       "      <td>2394.000000</td>\n",
       "      <td>2394.000000</td>\n",
       "      <td>2394.000000</td>\n",
       "      <td>2.394000e+03</td>\n",
       "    </tr>\n",
       "    <tr>\n",
       "      <th>mean</th>\n",
       "      <td>13901.230188</td>\n",
       "      <td>14317.782135</td>\n",
       "      <td>13458.189294</td>\n",
       "      <td>13917.536462</td>\n",
       "      <td>3209.448654</td>\n",
       "      <td>3.477780e+07</td>\n",
       "    </tr>\n",
       "    <tr>\n",
       "      <th>std</th>\n",
       "      <td>17101.913662</td>\n",
       "      <td>17597.578163</td>\n",
       "      <td>16552.239402</td>\n",
       "      <td>17107.359712</td>\n",
       "      <td>3885.995506</td>\n",
       "      <td>4.990896e+07</td>\n",
       "    </tr>\n",
       "    <tr>\n",
       "      <th>min</th>\n",
       "      <td>0.000000</td>\n",
       "      <td>245.000000</td>\n",
       "      <td>0.000000</td>\n",
       "      <td>243.600000</td>\n",
       "      <td>0.000000</td>\n",
       "      <td>0.000000e+00</td>\n",
       "    </tr>\n",
       "    <tr>\n",
       "      <th>25%</th>\n",
       "      <td>2187.042500</td>\n",
       "      <td>2324.060000</td>\n",
       "      <td>2065.305000</td>\n",
       "      <td>2210.945000</td>\n",
       "      <td>1042.351601</td>\n",
       "      <td>3.813598e+06</td>\n",
       "    </tr>\n",
       "    <tr>\n",
       "      <th>50%</th>\n",
       "      <td>7434.715000</td>\n",
       "      <td>7653.760000</td>\n",
       "      <td>7256.310000</td>\n",
       "      <td>7434.715000</td>\n",
       "      <td>1918.755188</td>\n",
       "      <td>1.705102e+07</td>\n",
       "    </tr>\n",
       "    <tr>\n",
       "      <th>75%</th>\n",
       "      <td>12302.035000</td>\n",
       "      <td>13027.722500</td>\n",
       "      <td>11695.102500</td>\n",
       "      <td>12450.150000</td>\n",
       "      <td>3673.998996</td>\n",
       "      <td>4.552247e+07</td>\n",
       "    </tr>\n",
       "    <tr>\n",
       "      <th>max</th>\n",
       "      <td>68525.750000</td>\n",
       "      <td>69000.000000</td>\n",
       "      <td>66262.480000</td>\n",
       "      <td>68525.750000</td>\n",
       "      <td>54142.433523</td>\n",
       "      <td>6.914380e+08</td>\n",
       "    </tr>\n",
       "  </tbody>\n",
       "</table>\n",
       "</div>"
      ],
      "text/plain": [
       "               open          high           low         close    Volume BTC  \\\n",
       "count   2394.000000   2394.000000   2394.000000   2394.000000   2394.000000   \n",
       "mean   13901.230188  14317.782135  13458.189294  13917.536462   3209.448654   \n",
       "std    17101.913662  17597.578163  16552.239402  17107.359712   3885.995506   \n",
       "min        0.000000    245.000000      0.000000    243.600000      0.000000   \n",
       "25%     2187.042500   2324.060000   2065.305000   2210.945000   1042.351601   \n",
       "50%     7434.715000   7653.760000   7256.310000   7434.715000   1918.755188   \n",
       "75%    12302.035000  13027.722500  11695.102500  12450.150000   3673.998996   \n",
       "max    68525.750000  69000.000000  66262.480000  68525.750000  54142.433523   \n",
       "\n",
       "         Volume USD  \n",
       "count  2.394000e+03  \n",
       "mean   3.477780e+07  \n",
       "std    4.990896e+07  \n",
       "min    0.000000e+00  \n",
       "25%    3.813598e+06  \n",
       "50%    1.705102e+07  \n",
       "75%    4.552247e+07  \n",
       "max    6.914380e+08  "
      ]
     },
     "execution_count": 7,
     "metadata": {},
     "output_type": "execute_result"
    }
   ],
   "source": [
    "btc.describe()"
   ]
  },
  {
   "cell_type": "code",
   "execution_count": 8,
   "id": "132166c8-9ec1-4e23-a9cf-b91dea988d3a",
   "metadata": {},
   "outputs": [
    {
     "data": {
      "text/plain": [
       "0       2022-04-27 04:00:00\n",
       "1       2022-04-26 04:00:00\n",
       "2       2022-04-25 04:00:00\n",
       "3       2022-04-24 04:00:00\n",
       "4       2022-04-23 04:00:00\n",
       "               ...         \n",
       "2389    2015-10-12 04:00:00\n",
       "2390    2015-10-11 04:00:00\n",
       "2391    2015-10-10 04:00:00\n",
       "2392    2015-10-09 04:00:00\n",
       "2393    2015-10-08 04:00:00\n",
       "Name: date, Length: 2394, dtype: object"
      ]
     },
     "execution_count": 8,
     "metadata": {},
     "output_type": "execute_result"
    }
   ],
   "source": [
    "btc[\"date\"]"
   ]
  },
  {
   "cell_type": "code",
   "execution_count": 9,
   "id": "89aadbb7-7e90-45ff-b86e-ba4a517c17c2",
   "metadata": {},
   "outputs": [],
   "source": [
    "for i in [btc, eth, ltc,dog]:\n",
    "    i['date'] = pd.to_datetime(i['date'])"
   ]
  },
  {
   "cell_type": "code",
   "execution_count": 10,
   "id": "2a56d9b1-a21d-47d6-8a94-689c4cf1dfa7",
   "metadata": {},
   "outputs": [
    {
     "data": {
      "text/plain": [
       "0      2022-04-27 04:00:00\n",
       "1      2022-04-26 04:00:00\n",
       "2      2022-04-25 04:00:00\n",
       "3      2022-04-24 04:00:00\n",
       "4      2022-04-23 04:00:00\n",
       "               ...        \n",
       "2389   2015-10-12 04:00:00\n",
       "2390   2015-10-11 04:00:00\n",
       "2391   2015-10-10 04:00:00\n",
       "2392   2015-10-09 04:00:00\n",
       "2393   2015-10-08 04:00:00\n",
       "Name: date, Length: 2394, dtype: datetime64[ns]"
      ]
     },
     "execution_count": 10,
     "metadata": {},
     "output_type": "execute_result"
    }
   ],
   "source": [
    "btc[\"date\"]"
   ]
  },
  {
   "cell_type": "code",
   "execution_count": 11,
   "id": "74c84fb6-46ba-4ad2-b89c-bd3a1a8c6cd1",
   "metadata": {},
   "outputs": [
    {
     "data": {
      "image/png": "[encoded data removed]",
      "text/plain": [
       "<Figure size 432x288 with 1 Axes>"
      ]
     },
     "metadata": {
      "needs_background": "light"
     },
     "output_type": "display_data"
    }
   ],
   "source": [
    "sns.lineplot(x=\"date\",y=\"close\",data = btc)\n",
    "plt.xticks(rotation=25)\n",
    "plt.savefig('btc.png')\n",
    "#We are plotting CLOSE price. Which is the price of the cryptocurency at the end of the day"
   ]
  },
  {
   "cell_type": "code",
   "execution_count": 12,
   "id": "dbe97176-515e-4f68-891e-508c82157ed0",
   "metadata": {},
   "outputs": [
    {
     "data": {
      "image/png": "[encoded data removed]",
      "text/plain": [
       "<Figure size 432x288 with 1 Axes>"
      ]
     },
     "metadata": {
      "needs_background": "light"
     },
     "output_type": "display_data"
    }
   ],
   "source": [
    "sns.lineplot(x=\"date\",y=\"close\",data = ltc)\n",
    "plt.xticks(rotation=25)\n",
    "plt.savefig('ltc.png')\n",
    "#We are plotting CLOSE price. Which is the price of the cryptocurency at the end of the day"
   ]
  },
  {
   "cell_type": "code",
   "execution_count": 13,
   "id": "a69c4dcb-3b29-49c0-8e5e-e4e1161743c1",
   "metadata": {},
   "outputs": [
    {
     "data": {
      "image/png": "[encoded data removed]",
      "text/plain": [
       "<Figure size 432x288 with 1 Axes>"
      ]
     },
     "metadata": {
      "needs_background": "light"
     },
     "output_type": "display_data"
    }
   ],
   "source": [
    "sns.lineplot(x=\"date\",y=\"close\",data = eth)\n",
    "plt.xticks(rotation=25)\n",
    "plt.savefig('eth.png')\n",
    "#We are plotting CLOSE price. Which is the price of the cryptocurency at the end of the day"
   ]
  },
  {
   "cell_type": "code",
   "execution_count": 14,
   "id": "faf42eb1-b744-4877-a74b-8fce704a9a16",
   "metadata": {},
   "outputs": [
    {
     "data": {
      "image/png": "[encoded data removed]",
      "text/plain": [
       "<Figure size 432x288 with 1 Axes>"
      ]
     },
     "metadata": {
      "needs_background": "light"
     },
     "output_type": "display_data"
    }
   ],
   "source": [
    "sns.lineplot(x=\"date\",y=\"close\",data = dog)\n",
    "plt.xticks(rotation=25)\n",
    "plt.savefig('dog.png')\n",
    "#We are plotting CLOSE price. Which is the price of the cryptocurency at the end of the day"
   ]
  },
  {
   "cell_type": "code",
   "execution_count": 15,
   "id": "3d19ee76-7fbe-40cb-aac2-a14fe44dc7ad",
   "metadata": {},
   "outputs": [],
   "source": [
    "var = ['open', 'high', 'low', 'close']\n",
    "t = ['date']"
   ]
  },
  {
   "cell_type": "code",
   "execution_count": 16,
   "id": "baf0a96d-0859-4aca-9564-76d968b0278c",
   "metadata": {},
   "outputs": [
    {
     "data": {
      "text/plain": [
       "(array([16436., 16801., 17167., 17532., 17897., 18262., 18628., 18993.]),\n",
       " [Text(0, 0, ''),\n",
       "  Text(0, 0, ''),\n",
       "  Text(0, 0, ''),\n",
       "  Text(0, 0, ''),\n",
       "  Text(0, 0, ''),\n",
       "  Text(0, 0, ''),\n",
       "  Text(0, 0, ''),\n",
       "  Text(0, 0, '')])"
      ]
     },
     "execution_count": 16,
     "metadata": {},
     "output_type": "execute_result"
    },
    {
     "data": {
      "image/png": "[encoded data removed]",
      "text/plain": [
       "<Figure size 432x288 with 4 Axes>"
      ]
     },
     "metadata": {
      "needs_background": "light"
     },
     "output_type": "display_data"
    }
   ],
   "source": [
    "fig,ax = plt.subplots(4, sharex=True)\n",
    "\n",
    "for i in range(4):    \n",
    "    ax[i].plot(btc[t],btc[var[i]],color='blue')\n",
    "plt.xticks(rotation=25)"
   ]
  },
  {
   "cell_type": "code",
   "execution_count": 17,
   "id": "a65b395d-63f1-488b-b5de-610715521f60",
   "metadata": {},
   "outputs": [
    {
     "data": {
      "text/plain": [
       "(array([17897., 18078., 18262., 18444., 18628., 18809., 18993.]),\n",
       " [Text(0, 0, ''),\n",
       "  Text(0, 0, ''),\n",
       "  Text(0, 0, ''),\n",
       "  Text(0, 0, ''),\n",
       "  Text(0, 0, ''),\n",
       "  Text(0, 0, ''),\n",
       "  Text(0, 0, '')])"
      ]
     },
     "execution_count": 17,
     "metadata": {},
     "output_type": "execute_result"
    },
    {
     "data": {
      "image/png": "[encoded data removed]",
      "text/plain": [
       "<Figure size 432x288 with 4 Axes>"
      ]
     },
     "metadata": {
      "needs_background": "light"
     },
     "output_type": "display_data"
    }
   ],
   "source": [
    "fig,ax = plt.subplots(4, sharex=True)\n",
    "\n",
    "for i in range(4):    \n",
    "    ax[i].plot(ltc[t],ltc[var[i]],color='blue')\n",
    "plt.xticks(rotation=25)"
   ]
  },
  {
   "cell_type": "code",
   "execution_count": 18,
   "id": "2db69632-e700-46fb-bf11-a0324159dccb",
   "metadata": {},
   "outputs": [
    {
     "data": {
      "text/plain": [
       "(array([16801., 17167., 17532., 17897., 18262., 18628., 18993.]),\n",
       " [Text(0, 0, ''),\n",
       "  Text(0, 0, ''),\n",
       "  Text(0, 0, ''),\n",
       "  Text(0, 0, ''),\n",
       "  Text(0, 0, ''),\n",
       "  Text(0, 0, ''),\n",
       "  Text(0, 0, '')])"
      ]
     },
     "execution_count": 18,
     "metadata": {},
     "output_type": "execute_result"
    },
    {
     "data": {
      "image/png": "[encoded data removed]",
      "text/plain": [
       "<Figure size 432x288 with 4 Axes>"
      ]
     },
     "metadata": {
      "needs_background": "light"
     },
     "output_type": "display_data"
    }
   ],
   "source": [
    "fig,ax = plt.subplots(4, sharex=True)\n",
    "\n",
    "for i in range(4):    \n",
    "    ax[i].plot(eth[t],eth[var[i]],color='blue')\n",
    "plt.xticks(rotation=25)"
   ]
  },
  {
   "cell_type": "code",
   "execution_count": 19,
   "id": "4585cbd8-c363-4c17-b9d7-90a6c26c315b",
   "metadata": {},
   "outputs": [
    {
     "data": {
      "text/plain": [
       "(array([18748., 18809., 18871., 18932., 18993., 19052., 19113.]),\n",
       " [Text(0, 0, ''),\n",
       "  Text(0, 0, ''),\n",
       "  Text(0, 0, ''),\n",
       "  Text(0, 0, ''),\n",
       "  Text(0, 0, ''),\n",
       "  Text(0, 0, ''),\n",
       "  Text(0, 0, '')])"
      ]
     },
     "execution_count": 19,
     "metadata": {},
     "output_type": "execute_result"
    },
    {
     "data": {
      "image/png": "[encoded data removed]",
      "text/plain": [
       "<Figure size 432x288 with 4 Axes>"
      ]
     },
     "metadata": {
      "needs_background": "light"
     },
     "output_type": "display_data"
    }
   ],
   "source": [
    "fig,ax = plt.subplots(4, sharex=True)\n",
    "\n",
    "for i in range(4):    \n",
    "    ax[i].plot(dog[t],dog[var[i]],color='blue')\n",
    "plt.xticks(rotation=25)"
   ]
  },
  {
   "cell_type": "markdown",
   "id": "f93040c6-012f-4a4b-992b-b6598f405a6f",
   "metadata": {},
   "source": [
    "### Predicting BTC prices using ARIma algorithm"
   ]
  },
  {
   "cell_type": "code",
   "execution_count": 20,
   "id": "cc963ee9-f980-4377-98f8-6dbc4536a6d0",
   "metadata": {},
   "outputs": [],
   "source": [
    "from statsmodels.tsa.arima.model import ARIMA "
   ]
  },
  {
   "cell_type": "code",
   "execution_count": 21,
   "id": "ccb5d6a8-4822-4131-a735-93524dfcfada",
   "metadata": {},
   "outputs": [],
   "source": [
    "from math import sqrt\n",
    "from sklearn.metrics import mean_squared_error\n",
    "from matplotlib import pyplot\n",
    "from statsmodels.tsa.ar_model import AutoReg as AR"
   ]
  },
  {
   "cell_type": "code",
   "execution_count": 22,
   "id": "2e398d12-5576-4a9a-a788-b9206bdda6e7",
   "metadata": {},
   "outputs": [
    {
     "data": {
      "text/html": [
       "<div>\n",
       "<style scoped>\n",
       "    .dataframe tbody tr th:only-of-type {\n",
       "        vertical-align: middle;\n",
       "    }\n",
       "\n",
       "    .dataframe tbody tr th {\n",
       "        vertical-align: top;\n",
       "    }\n",
       "\n",
       "    .dataframe thead th {\n",
       "        text-align: right;\n",
       "    }\n",
       "</style>\n",
       "<table border=\"1\" class=\"dataframe\">\n",
       "  <thead>\n",
       "    <tr style=\"text-align: right;\">\n",
       "      <th></th>\n",
       "      <th>date</th>\n",
       "      <th>open</th>\n",
       "      <th>high</th>\n",
       "      <th>low</th>\n",
       "      <th>close</th>\n",
       "      <th>Volume BTC</th>\n",
       "      <th>Volume USD</th>\n",
       "    </tr>\n",
       "  </thead>\n",
       "  <tbody>\n",
       "    <tr>\n",
       "      <th>0</th>\n",
       "      <td>2022-04-27 04:00:00</td>\n",
       "      <td>38344.79</td>\n",
       "      <td>39463.17</td>\n",
       "      <td>38316.92</td>\n",
       "      <td>39179.01</td>\n",
       "      <td>646.587599</td>\n",
       "      <td>2.533266e+07</td>\n",
       "    </tr>\n",
       "    <tr>\n",
       "      <th>1</th>\n",
       "      <td>2022-04-26 04:00:00</td>\n",
       "      <td>40541.18</td>\n",
       "      <td>40783.69</td>\n",
       "      <td>37697.42</td>\n",
       "      <td>38344.79</td>\n",
       "      <td>1297.579024</td>\n",
       "      <td>4.975540e+07</td>\n",
       "    </tr>\n",
       "    <tr>\n",
       "      <th>2</th>\n",
       "      <td>2022-04-25 04:00:00</td>\n",
       "      <td>39260.92</td>\n",
       "      <td>40765.94</td>\n",
       "      <td>38221.87</td>\n",
       "      <td>40541.18</td>\n",
       "      <td>1370.403628</td>\n",
       "      <td>5.555778e+07</td>\n",
       "    </tr>\n",
       "    <tr>\n",
       "      <th>3</th>\n",
       "      <td>2022-04-24 04:00:00</td>\n",
       "      <td>39780.94</td>\n",
       "      <td>39933.07</td>\n",
       "      <td>38695.95</td>\n",
       "      <td>39260.92</td>\n",
       "      <td>515.669742</td>\n",
       "      <td>2.024567e+07</td>\n",
       "    </tr>\n",
       "    <tr>\n",
       "      <th>4</th>\n",
       "      <td>2022-04-23 04:00:00</td>\n",
       "      <td>39482.00</td>\n",
       "      <td>39988.99</td>\n",
       "      <td>39299.82</td>\n",
       "      <td>39780.94</td>\n",
       "      <td>402.215227</td>\n",
       "      <td>1.600050e+07</td>\n",
       "    </tr>\n",
       "    <tr>\n",
       "      <th>...</th>\n",
       "      <td>...</td>\n",
       "      <td>...</td>\n",
       "      <td>...</td>\n",
       "      <td>...</td>\n",
       "      <td>...</td>\n",
       "      <td>...</td>\n",
       "      <td>...</td>\n",
       "    </tr>\n",
       "    <tr>\n",
       "      <th>2389</th>\n",
       "      <td>2015-10-12 04:00:00</td>\n",
       "      <td>248.98</td>\n",
       "      <td>248.98</td>\n",
       "      <td>245.75</td>\n",
       "      <td>245.75</td>\n",
       "      <td>71.047743</td>\n",
       "      <td>1.745998e+04</td>\n",
       "    </tr>\n",
       "    <tr>\n",
       "      <th>2390</th>\n",
       "      <td>2015-10-11 04:00:00</td>\n",
       "      <td>246.30</td>\n",
       "      <td>249.50</td>\n",
       "      <td>245.96</td>\n",
       "      <td>248.98</td>\n",
       "      <td>22.747091</td>\n",
       "      <td>5.663571e+03</td>\n",
       "    </tr>\n",
       "    <tr>\n",
       "      <th>2391</th>\n",
       "      <td>2015-10-10 04:00:00</td>\n",
       "      <td>245.51</td>\n",
       "      <td>246.30</td>\n",
       "      <td>244.60</td>\n",
       "      <td>246.30</td>\n",
       "      <td>30.870549</td>\n",
       "      <td>7.603416e+03</td>\n",
       "    </tr>\n",
       "    <tr>\n",
       "      <th>2392</th>\n",
       "      <td>2015-10-09 04:00:00</td>\n",
       "      <td>243.60</td>\n",
       "      <td>249.97</td>\n",
       "      <td>243.60</td>\n",
       "      <td>245.51</td>\n",
       "      <td>61.587068</td>\n",
       "      <td>1.512024e+04</td>\n",
       "    </tr>\n",
       "    <tr>\n",
       "      <th>2393</th>\n",
       "      <td>2015-10-08 04:00:00</td>\n",
       "      <td>0.00</td>\n",
       "      <td>245.00</td>\n",
       "      <td>0.00</td>\n",
       "      <td>243.60</td>\n",
       "      <td>34.754703</td>\n",
       "      <td>8.466246e+03</td>\n",
       "    </tr>\n",
       "  </tbody>\n",
       "</table>\n",
       "<p>2394 rows × 7 columns</p>\n",
       "</div>"
      ],
      "text/plain": [
       "                    date      open      high       low     close   Volume BTC  \\\n",
       "0    2022-04-27 04:00:00  38344.79  39463.17  38316.92  39179.01   646.587599   \n",
       "1    2022-04-26 04:00:00  40541.18  40783.69  37697.42  38344.79  1297.579024   \n",
       "2    2022-04-25 04:00:00  39260.92  40765.94  38221.87  40541.18  1370.403628   \n",
       "3    2022-04-24 04:00:00  39780.94  39933.07  38695.95  39260.92   515.669742   \n",
       "4    2022-04-23 04:00:00  39482.00  39988.99  39299.82  39780.94   402.215227   \n",
       "...                  ...       ...       ...       ...       ...          ...   \n",
       "2389 2015-10-12 04:00:00    248.98    248.98    245.75    245.75    71.047743   \n",
       "2390 2015-10-11 04:00:00    246.30    249.50    245.96    248.98    22.747091   \n",
       "2391 2015-10-10 04:00:00    245.51    246.30    244.60    246.30    30.870549   \n",
       "2392 2015-10-09 04:00:00    243.60    249.97    243.60    245.51    61.587068   \n",
       "2393 2015-10-08 04:00:00      0.00    245.00      0.00    243.60    34.754703   \n",
       "\n",
       "        Volume USD  \n",
       "0     2.533266e+07  \n",
       "1     4.975540e+07  \n",
       "2     5.555778e+07  \n",
       "3     2.024567e+07  \n",
       "4     1.600050e+07  \n",
       "...            ...  \n",
       "2389  1.745998e+04  \n",
       "2390  5.663571e+03  \n",
       "2391  7.603416e+03  \n",
       "2392  1.512024e+04  \n",
       "2393  8.466246e+03  \n",
       "\n",
       "[2394 rows x 7 columns]"
      ]
     },
     "execution_count": 22,
     "metadata": {},
     "output_type": "execute_result"
    }
   ],
   "source": [
    "btc2 = btc.copy()\n",
    "btc2"
   ]
  },
  {
   "cell_type": "code",
   "execution_count": 23,
   "id": "89375967-5e10-4680-9983-5c7997b3d6a0",
   "metadata": {},
   "outputs": [
    {
     "data": {
      "text/html": [
       "<div>\n",
       "<style scoped>\n",
       "    .dataframe tbody tr th:only-of-type {\n",
       "        vertical-align: middle;\n",
       "    }\n",
       "\n",
       "    .dataframe tbody tr th {\n",
       "        vertical-align: top;\n",
       "    }\n",
       "\n",
       "    .dataframe thead th {\n",
       "        text-align: right;\n",
       "    }\n",
       "</style>\n",
       "<table border=\"1\" class=\"dataframe\">\n",
       "  <thead>\n",
       "    <tr style=\"text-align: right;\">\n",
       "      <th></th>\n",
       "      <th>close</th>\n",
       "    </tr>\n",
       "    <tr>\n",
       "      <th>date</th>\n",
       "      <th></th>\n",
       "    </tr>\n",
       "  </thead>\n",
       "  <tbody>\n",
       "    <tr>\n",
       "      <th>2015-10-08 04:00:00</th>\n",
       "      <td>243.60</td>\n",
       "    </tr>\n",
       "    <tr>\n",
       "      <th>2015-10-09 04:00:00</th>\n",
       "      <td>245.51</td>\n",
       "    </tr>\n",
       "    <tr>\n",
       "      <th>2015-10-10 04:00:00</th>\n",
       "      <td>246.30</td>\n",
       "    </tr>\n",
       "    <tr>\n",
       "      <th>2015-10-11 04:00:00</th>\n",
       "      <td>248.98</td>\n",
       "    </tr>\n",
       "    <tr>\n",
       "      <th>2015-10-12 04:00:00</th>\n",
       "      <td>245.75</td>\n",
       "    </tr>\n",
       "    <tr>\n",
       "      <th>...</th>\n",
       "      <td>...</td>\n",
       "    </tr>\n",
       "    <tr>\n",
       "      <th>2022-04-23 04:00:00</th>\n",
       "      <td>39780.94</td>\n",
       "    </tr>\n",
       "    <tr>\n",
       "      <th>2022-04-24 04:00:00</th>\n",
       "      <td>39260.92</td>\n",
       "    </tr>\n",
       "    <tr>\n",
       "      <th>2022-04-25 04:00:00</th>\n",
       "      <td>40541.18</td>\n",
       "    </tr>\n",
       "    <tr>\n",
       "      <th>2022-04-26 04:00:00</th>\n",
       "      <td>38344.79</td>\n",
       "    </tr>\n",
       "    <tr>\n",
       "      <th>2022-04-27 04:00:00</th>\n",
       "      <td>39179.01</td>\n",
       "    </tr>\n",
       "  </tbody>\n",
       "</table>\n",
       "<p>2394 rows × 1 columns</p>\n",
       "</div>"
      ],
      "text/plain": [
       "                        close\n",
       "date                         \n",
       "2015-10-08 04:00:00    243.60\n",
       "2015-10-09 04:00:00    245.51\n",
       "2015-10-10 04:00:00    246.30\n",
       "2015-10-11 04:00:00    248.98\n",
       "2015-10-12 04:00:00    245.75\n",
       "...                       ...\n",
       "2022-04-23 04:00:00  39780.94\n",
       "2022-04-24 04:00:00  39260.92\n",
       "2022-04-25 04:00:00  40541.18\n",
       "2022-04-26 04:00:00  38344.79\n",
       "2022-04-27 04:00:00  39179.01\n",
       "\n",
       "[2394 rows x 1 columns]"
      ]
     },
     "execution_count": 23,
     "metadata": {},
     "output_type": "execute_result"
    }
   ],
   "source": [
    "btc2.drop(columns = [\"open\",\"high\",\"low\",\"Volume BTC\",\"Volume USD\"],inplace = True)\n",
    "btc2 = btc2[::-1]\n",
    "btc2.set_index(['date'],inplace=True)\n",
    "btc2"
   ]
  },
  {
   "cell_type": "code",
   "execution_count": 24,
   "id": "c2124ba3-526d-48fa-a0e5-fefc69908b24",
   "metadata": {},
   "outputs": [],
   "source": [
    "X = btc2.values\n",
    "train,test = X[0:len(X)-30],X[len(X)-30:]"
   ]
  },
  {
   "cell_type": "code",
   "execution_count": 48,
   "id": "467ac0a2-0917-40cf-bc7b-2fa8cbeac904",
   "metadata": {},
   "outputs": [],
   "source": [
    "model = ARIMA(train,order=(10,1,5))\n",
    "# The (p,d,q) order of the model for the number of AR parameters, differences, and MA parameters to use."
   ]
  },
  {
   "cell_type": "code",
   "execution_count": 49,
   "id": "ff608943-0a48-4dea-b0b7-e3f70a33b708",
   "metadata": {},
   "outputs": [
    {
     "name": "stderr",
     "output_type": "stream",
     "text": [
      "/opt/conda/lib/python3.7/site-packages/statsmodels/tsa/statespace/sarimax.py:966: UserWarning: Non-stationary starting autoregressive parameters found. Using zeros as starting parameters.\n",
      "  warn('Non-stationary starting autoregressive parameters'\n",
      "/opt/conda/lib/python3.7/site-packages/statsmodels/tsa/statespace/sarimax.py:978: UserWarning: Non-invertible starting MA parameters found. Using zeros as starting parameters.\n",
      "  warn('Non-invertible starting MA parameters found.'\n",
      "/opt/conda/lib/python3.7/site-packages/statsmodels/base/model.py:606: ConvergenceWarning: Maximum Likelihood optimization failed to converge. Check mle_retvals\n",
      "  ConvergenceWarning)\n"
     ]
    }
   ],
   "source": [
    "model_fit = model.fit()"
   ]
  },
  {
   "cell_type": "code",
   "execution_count": 50,
   "id": "f016c35f-d81d-4828-8aa7-b6d4ad6c3dc3",
   "metadata": {},
   "outputs": [],
   "source": [
    "predictions = model_fit.predict(start=len(train), end=len(train)+len(test)-1, dynamic=False)"
   ]
  },
  {
   "cell_type": "code",
   "execution_count": 51,
   "id": "97887fee-bd4e-4df6-9dc6-200052e36170",
   "metadata": {},
   "outputs": [
    {
     "name": "stdout",
     "output_type": "stream",
     "text": [
      "predicted=47534.260873, expected=47468.070000\n",
      "predicted=47369.346766, expected=47108.130000\n",
      "predicted=47378.613848, expected=44600.000000\n",
      "predicted=47342.669760, expected=46618.390000\n",
      "predicted=47429.270364, expected=45964.350000\n",
      "predicted=47601.738815, expected=46019.340000\n",
      "predicted=47658.235727, expected=46666.700000\n",
      "predicted=47905.634259, expected=45193.400000\n",
      "predicted=47750.177712, expected=43304.160000\n",
      "predicted=47865.372828, expected=43627.540000\n",
      "predicted=47594.483586, expected=42400.010000\n",
      "predicted=47698.062343, expected=42810.850000\n",
      "predicted=47590.730535, expected=42096.930000\n",
      "predicted=47769.758675, expected=39750.000000\n",
      "predicted=47829.334475, expected=40086.760000\n",
      "predicted=47901.691256, expected=41339.600000\n",
      "predicted=47938.878869, expected=40199.810000\n",
      "predicted=47799.254174, expected=40437.470000\n",
      "predicted=47821.069702, expected=40253.710000\n",
      "predicted=47646.983249, expected=39837.450000\n",
      "predicted=47789.331732, expected=40709.480000\n",
      "predicted=47725.438841, expected=41406.000000\n",
      "predicted=47921.458357, expected=41711.060000\n",
      "predicted=47877.804318, expected=40503.040000\n",
      "predicted=47939.522784, expected=39482.000000\n",
      "predicted=47850.736412, expected=39780.940000\n",
      "predicted=47785.550160, expected=39260.920000\n",
      "predicted=47771.625829, expected=40541.180000\n",
      "predicted=47723.630652, expected=38344.790000\n",
      "predicted=47849.638295, expected=39179.010000\n"
     ]
    }
   ],
   "source": [
    "for i in range(len(predictions)):\n",
    "    print('predicted=%f, expected=%f' % (predictions[i], test[i]))"
   ]
  },
  {
   "cell_type": "code",
   "execution_count": 52,
   "id": "bcf65df3-0a47-4e8a-a020-833b8ca88c1b",
   "metadata": {},
   "outputs": [
    {
     "name": "stdout",
     "output_type": "stream",
     "text": [
      "                               SARIMAX Results                                \n",
      "==============================================================================\n",
      "Dep. Variable:                      y   No. Observations:                 2364\n",
      "Model:                ARIMA(10, 1, 5)   Log Likelihood              -19288.510\n",
      "Date:                Fri, 29 Apr 2022   AIC                          38609.019\n",
      "Time:                        16:58:13   BIC                          38701.302\n",
      "Sample:                             0   HQIC                         38642.619\n",
      "                               - 2364                                         \n",
      "Covariance Type:                  opg                                         \n",
      "==============================================================================\n",
      "                 coef    std err          z      P>|z|      [0.025      0.975]\n",
      "------------------------------------------------------------------------------\n",
      "ar.L1          0.3386      0.250      1.356      0.175      -0.151       0.828\n",
      "ar.L2          0.9971      0.114      8.712      0.000       0.773       1.221\n",
      "ar.L3         -0.9257      0.148     -6.262      0.000      -1.215      -0.636\n",
      "ar.L4         -0.4674      0.115     -4.050      0.000      -0.694      -0.241\n",
      "ar.L5          0.6524      0.203      3.220      0.001       0.255       1.050\n",
      "ar.L6          0.0459      0.021      2.236      0.025       0.006       0.086\n",
      "ar.L7          0.0042      0.019      0.221      0.825      -0.033       0.042\n",
      "ar.L8         -0.0076      0.018     -0.432      0.665      -0.042       0.027\n",
      "ar.L9          0.0573      0.013      4.497      0.000       0.032       0.082\n",
      "ar.L10        -0.0378      0.025     -1.529      0.126      -0.086       0.011\n",
      "ma.L1         -0.3846      0.249     -1.545      0.122      -0.872       0.103\n",
      "ma.L2         -1.0071      0.104     -9.729      0.000      -1.210      -0.804\n",
      "ma.L3          1.0376      0.158      6.579      0.000       0.728       1.347\n",
      "ma.L4          0.4483      0.131      3.414      0.001       0.191       0.706\n",
      "ma.L5         -0.7240      0.211     -3.434      0.001      -1.137      -0.311\n",
      "sigma2      7.285e+05   7948.443     91.651      0.000    7.13e+05    7.44e+05\n",
      "===================================================================================\n",
      "Ljung-Box (L1) (Q):                   0.00   Jarque-Bera (JB):             28659.15\n",
      "Prob(Q):                              0.98   Prob(JB):                         0.00\n",
      "Heteroskedasticity (H):             125.16   Skew:                            -0.28\n",
      "Prob(H) (two-sided):                  0.00   Kurtosis:                        20.05\n",
      "===================================================================================\n",
      "\n",
      "Warnings:\n",
      "[1] Covariance matrix calculated using the outer product of gradients (complex-step).\n"
     ]
    }
   ],
   "source": [
    "print(model_fit.summary())"
   ]
  },
  {
   "cell_type": "code",
   "execution_count": 53,
   "id": "f53b320a-0fbb-4ea1-afbb-329acfc8ca5c",
   "metadata": {},
   "outputs": [
    {
     "name": "stdout",
     "output_type": "stream",
     "text": [
      "Test RMSE: 6184.682\n"
     ]
    },
    {
     "data": {
      "image/png": "[encoded data removed]",
      "text/plain": [
       "<Figure size 432x288 with 1 Axes>"
      ]
     },
     "metadata": {
      "needs_background": "light"
     },
     "output_type": "display_data"
    }
   ],
   "source": [
    "rmse = sqrt(mean_squared_error(test, predictions))\n",
    "print('Test RMSE: %.3f' % rmse)\n",
    "pyplot.plot(test)\n",
    "pyplot.plot(predictions, color='red')\n",
    "plt.savefig('btcarima.png')\n",
    "pyplot.show()"
   ]
  },
  {
   "cell_type": "markdown",
   "id": "36eb0614-4ddb-4ce2-9e8c-1dadd6da38d0",
   "metadata": {},
   "source": [
    "### Using prophet library to predict BTC prices"
   ]
  },
  {
   "cell_type": "code",
   "execution_count": 154,
   "id": "f1317889-57c9-4799-abb9-dbccca40aa18",
   "metadata": {},
   "outputs": [],
   "source": [
    "from prophet import Prophet"
   ]
  },
  {
   "cell_type": "code",
   "execution_count": 155,
   "id": "766fc4bf-1d35-47d4-ad5b-4234a902b084",
   "metadata": {},
   "outputs": [
    {
     "data": {
      "text/html": [
       "<div>\n",
       "<style scoped>\n",
       "    .dataframe tbody tr th:only-of-type {\n",
       "        vertical-align: middle;\n",
       "    }\n",
       "\n",
       "    .dataframe tbody tr th {\n",
       "        vertical-align: top;\n",
       "    }\n",
       "\n",
       "    .dataframe thead th {\n",
       "        text-align: right;\n",
       "    }\n",
       "</style>\n",
       "<table border=\"1\" class=\"dataframe\">\n",
       "  <thead>\n",
       "    <tr style=\"text-align: right;\">\n",
       "      <th></th>\n",
       "      <th>date</th>\n",
       "      <th>open</th>\n",
       "      <th>high</th>\n",
       "      <th>low</th>\n",
       "      <th>close</th>\n",
       "      <th>Volume BTC</th>\n",
       "      <th>Volume USD</th>\n",
       "    </tr>\n",
       "  </thead>\n",
       "  <tbody>\n",
       "    <tr>\n",
       "      <th>0</th>\n",
       "      <td>2022-04-27 04:00:00</td>\n",
       "      <td>38344.79</td>\n",
       "      <td>39463.17</td>\n",
       "      <td>38316.92</td>\n",
       "      <td>39179.01</td>\n",
       "      <td>646.587599</td>\n",
       "      <td>2.533266e+07</td>\n",
       "    </tr>\n",
       "    <tr>\n",
       "      <th>1</th>\n",
       "      <td>2022-04-26 04:00:00</td>\n",
       "      <td>40541.18</td>\n",
       "      <td>40783.69</td>\n",
       "      <td>37697.42</td>\n",
       "      <td>38344.79</td>\n",
       "      <td>1297.579024</td>\n",
       "      <td>4.975540e+07</td>\n",
       "    </tr>\n",
       "    <tr>\n",
       "      <th>2</th>\n",
       "      <td>2022-04-25 04:00:00</td>\n",
       "      <td>39260.92</td>\n",
       "      <td>40765.94</td>\n",
       "      <td>38221.87</td>\n",
       "      <td>40541.18</td>\n",
       "      <td>1370.403628</td>\n",
       "      <td>5.555778e+07</td>\n",
       "    </tr>\n",
       "    <tr>\n",
       "      <th>3</th>\n",
       "      <td>2022-04-24 04:00:00</td>\n",
       "      <td>39780.94</td>\n",
       "      <td>39933.07</td>\n",
       "      <td>38695.95</td>\n",
       "      <td>39260.92</td>\n",
       "      <td>515.669742</td>\n",
       "      <td>2.024567e+07</td>\n",
       "    </tr>\n",
       "    <tr>\n",
       "      <th>4</th>\n",
       "      <td>2022-04-23 04:00:00</td>\n",
       "      <td>39482.00</td>\n",
       "      <td>39988.99</td>\n",
       "      <td>39299.82</td>\n",
       "      <td>39780.94</td>\n",
       "      <td>402.215227</td>\n",
       "      <td>1.600050e+07</td>\n",
       "    </tr>\n",
       "    <tr>\n",
       "      <th>...</th>\n",
       "      <td>...</td>\n",
       "      <td>...</td>\n",
       "      <td>...</td>\n",
       "      <td>...</td>\n",
       "      <td>...</td>\n",
       "      <td>...</td>\n",
       "      <td>...</td>\n",
       "    </tr>\n",
       "    <tr>\n",
       "      <th>2389</th>\n",
       "      <td>2015-10-12 04:00:00</td>\n",
       "      <td>248.98</td>\n",
       "      <td>248.98</td>\n",
       "      <td>245.75</td>\n",
       "      <td>245.75</td>\n",
       "      <td>71.047743</td>\n",
       "      <td>1.745998e+04</td>\n",
       "    </tr>\n",
       "    <tr>\n",
       "      <th>2390</th>\n",
       "      <td>2015-10-11 04:00:00</td>\n",
       "      <td>246.30</td>\n",
       "      <td>249.50</td>\n",
       "      <td>245.96</td>\n",
       "      <td>248.98</td>\n",
       "      <td>22.747091</td>\n",
       "      <td>5.663571e+03</td>\n",
       "    </tr>\n",
       "    <tr>\n",
       "      <th>2391</th>\n",
       "      <td>2015-10-10 04:00:00</td>\n",
       "      <td>245.51</td>\n",
       "      <td>246.30</td>\n",
       "      <td>244.60</td>\n",
       "      <td>246.30</td>\n",
       "      <td>30.870549</td>\n",
       "      <td>7.603416e+03</td>\n",
       "    </tr>\n",
       "    <tr>\n",
       "      <th>2392</th>\n",
       "      <td>2015-10-09 04:00:00</td>\n",
       "      <td>243.60</td>\n",
       "      <td>249.97</td>\n",
       "      <td>243.60</td>\n",
       "      <td>245.51</td>\n",
       "      <td>61.587068</td>\n",
       "      <td>1.512024e+04</td>\n",
       "    </tr>\n",
       "    <tr>\n",
       "      <th>2393</th>\n",
       "      <td>2015-10-08 04:00:00</td>\n",
       "      <td>0.00</td>\n",
       "      <td>245.00</td>\n",
       "      <td>0.00</td>\n",
       "      <td>243.60</td>\n",
       "      <td>34.754703</td>\n",
       "      <td>8.466246e+03</td>\n",
       "    </tr>\n",
       "  </tbody>\n",
       "</table>\n",
       "<p>2394 rows × 7 columns</p>\n",
       "</div>"
      ],
      "text/plain": [
       "                    date      open      high       low     close   Volume BTC  \\\n",
       "0    2022-04-27 04:00:00  38344.79  39463.17  38316.92  39179.01   646.587599   \n",
       "1    2022-04-26 04:00:00  40541.18  40783.69  37697.42  38344.79  1297.579024   \n",
       "2    2022-04-25 04:00:00  39260.92  40765.94  38221.87  40541.18  1370.403628   \n",
       "3    2022-04-24 04:00:00  39780.94  39933.07  38695.95  39260.92   515.669742   \n",
       "4    2022-04-23 04:00:00  39482.00  39988.99  39299.82  39780.94   402.215227   \n",
       "...                  ...       ...       ...       ...       ...          ...   \n",
       "2389 2015-10-12 04:00:00    248.98    248.98    245.75    245.75    71.047743   \n",
       "2390 2015-10-11 04:00:00    246.30    249.50    245.96    248.98    22.747091   \n",
       "2391 2015-10-10 04:00:00    245.51    246.30    244.60    246.30    30.870549   \n",
       "2392 2015-10-09 04:00:00    243.60    249.97    243.60    245.51    61.587068   \n",
       "2393 2015-10-08 04:00:00      0.00    245.00      0.00    243.60    34.754703   \n",
       "\n",
       "        Volume USD  \n",
       "0     2.533266e+07  \n",
       "1     4.975540e+07  \n",
       "2     5.555778e+07  \n",
       "3     2.024567e+07  \n",
       "4     1.600050e+07  \n",
       "...            ...  \n",
       "2389  1.745998e+04  \n",
       "2390  5.663571e+03  \n",
       "2391  7.603416e+03  \n",
       "2392  1.512024e+04  \n",
       "2393  8.466246e+03  \n",
       "\n",
       "[2394 rows x 7 columns]"
      ]
     },
     "execution_count": 155,
     "metadata": {},
     "output_type": "execute_result"
    }
   ],
   "source": [
    "btc_fb = btc.copy()\n",
    "btc_fb"
   ]
  },
  {
   "cell_type": "code",
   "execution_count": 156,
   "id": "883d25ab-a6d7-45bd-990a-15177453e9c1",
   "metadata": {},
   "outputs": [
    {
     "data": {
      "text/html": [
       "<div>\n",
       "<style scoped>\n",
       "    .dataframe tbody tr th:only-of-type {\n",
       "        vertical-align: middle;\n",
       "    }\n",
       "\n",
       "    .dataframe tbody tr th {\n",
       "        vertical-align: top;\n",
       "    }\n",
       "\n",
       "    .dataframe thead th {\n",
       "        text-align: right;\n",
       "    }\n",
       "</style>\n",
       "<table border=\"1\" class=\"dataframe\">\n",
       "  <thead>\n",
       "    <tr style=\"text-align: right;\">\n",
       "      <th></th>\n",
       "      <th>date</th>\n",
       "      <th>close</th>\n",
       "    </tr>\n",
       "  </thead>\n",
       "  <tbody>\n",
       "    <tr>\n",
       "      <th>0</th>\n",
       "      <td>2015-10-08 04:00:00</td>\n",
       "      <td>243.60</td>\n",
       "    </tr>\n",
       "    <tr>\n",
       "      <th>1</th>\n",
       "      <td>2015-10-09 04:00:00</td>\n",
       "      <td>245.51</td>\n",
       "    </tr>\n",
       "    <tr>\n",
       "      <th>2</th>\n",
       "      <td>2015-10-10 04:00:00</td>\n",
       "      <td>246.30</td>\n",
       "    </tr>\n",
       "    <tr>\n",
       "      <th>3</th>\n",
       "      <td>2015-10-11 04:00:00</td>\n",
       "      <td>248.98</td>\n",
       "    </tr>\n",
       "    <tr>\n",
       "      <th>4</th>\n",
       "      <td>2015-10-12 04:00:00</td>\n",
       "      <td>245.75</td>\n",
       "    </tr>\n",
       "    <tr>\n",
       "      <th>...</th>\n",
       "      <td>...</td>\n",
       "      <td>...</td>\n",
       "    </tr>\n",
       "    <tr>\n",
       "      <th>2295</th>\n",
       "      <td>2022-01-19 04:00:00</td>\n",
       "      <td>41954.50</td>\n",
       "    </tr>\n",
       "    <tr>\n",
       "      <th>2296</th>\n",
       "      <td>2022-01-20 04:00:00</td>\n",
       "      <td>38462.49</td>\n",
       "    </tr>\n",
       "    <tr>\n",
       "      <th>2297</th>\n",
       "      <td>2022-01-21 04:00:00</td>\n",
       "      <td>36341.40</td>\n",
       "    </tr>\n",
       "    <tr>\n",
       "      <th>2298</th>\n",
       "      <td>2022-01-22 04:00:00</td>\n",
       "      <td>35080.27</td>\n",
       "    </tr>\n",
       "    <tr>\n",
       "      <th>2299</th>\n",
       "      <td>2022-01-23 04:00:00</td>\n",
       "      <td>35369.00</td>\n",
       "    </tr>\n",
       "  </tbody>\n",
       "</table>\n",
       "<p>2300 rows × 2 columns</p>\n",
       "</div>"
      ],
      "text/plain": [
       "                    date     close\n",
       "0    2015-10-08 04:00:00    243.60\n",
       "1    2015-10-09 04:00:00    245.51\n",
       "2    2015-10-10 04:00:00    246.30\n",
       "3    2015-10-11 04:00:00    248.98\n",
       "4    2015-10-12 04:00:00    245.75\n",
       "...                  ...       ...\n",
       "2295 2022-01-19 04:00:00  41954.50\n",
       "2296 2022-01-20 04:00:00  38462.49\n",
       "2297 2022-01-21 04:00:00  36341.40\n",
       "2298 2022-01-22 04:00:00  35080.27\n",
       "2299 2022-01-23 04:00:00  35369.00\n",
       "\n",
       "[2300 rows x 2 columns]"
      ]
     },
     "execution_count": 156,
     "metadata": {},
     "output_type": "execute_result"
    }
   ],
   "source": [
    "btc_fb.drop(columns = [\"open\",\"high\",\"low\",\"Volume BTC\",\"Volume USD\"],inplace = True)\n",
    "\n",
    "btc_fb = btc_fb[::-1]\n",
    "btc_fb.reset_index(drop=True, inplace = True)\n",
    "btc_fb_test = btc_fb[0:2300].copy()\n",
    "btc_fb_test"
   ]
  },
  {
   "cell_type": "code",
   "execution_count": 157,
   "id": "6c0655ff-0d11-440c-a112-60b2e7459e95",
   "metadata": {},
   "outputs": [],
   "source": [
    "btc_fb_test.rename(columns={\"close\":\"y\", \"date\":\"ds\"},inplace = True)"
   ]
  },
  {
   "cell_type": "code",
   "execution_count": 158,
   "id": "e25d4d66-8846-42b7-866d-3579c7388b0a",
   "metadata": {},
   "outputs": [
    {
     "name": "stderr",
     "output_type": "stream",
     "text": [
      "INFO:prophet:Disabling daily seasonality. Run prophet with daily_seasonality=True to override this.\n"
     ]
    },
    {
     "name": "stdout",
     "output_type": "stream",
     "text": [
      "Initial log joint probability = -37.156\n"
     ]
    },
    {
     "data": {
      "text/plain": [
       "<prophet.forecaster.Prophet at 0x7febcc461590>"
      ]
     },
     "execution_count": 158,
     "metadata": {},
     "output_type": "execute_result"
    },
    {
     "name": "stdout",
     "output_type": "stream",
     "text": [
      "    Iter      log prob        ||dx||      ||grad||       alpha      alpha0  # evals  Notes \n",
      "      99       4599.51     0.0357027       272.858           1           1      120   \n",
      "    Iter      log prob        ||dx||      ||grad||       alpha      alpha0  # evals  Notes \n",
      "     199       4626.92    0.00108216       176.693           1           1      241   \n",
      "    Iter      log prob        ||dx||      ||grad||       alpha      alpha0  # evals  Notes \n",
      "     299       4633.18   0.000739796       67.8849           1           1      368   \n",
      "    Iter      log prob        ||dx||      ||grad||       alpha      alpha0  # evals  Notes \n",
      "     320       4633.73   0.000370033       185.714   3.995e-06       0.001      444  LS failed, Hessian reset \n",
      "     397       4635.74   0.000200854       133.313   1.387e-06       0.001      574  LS failed, Hessian reset \n",
      "     399       4636.16     0.0102446       229.114           1           1      577   \n",
      "    Iter      log prob        ||dx||      ||grad||       alpha      alpha0  # evals  Notes \n",
      "     462       4637.97   0.000238168        60.993   3.857e-06       0.001      682  LS failed, Hessian reset \n",
      "     499       4638.24   0.000192338       88.6874      0.7749      0.7749      721   \n",
      "    Iter      log prob        ||dx||      ||grad||       alpha      alpha0  # evals  Notes \n",
      "     592       4640.54   0.000983073       106.777    1.38e-05       0.001      875  LS failed, Hessian reset \n",
      "     599       4640.59   5.01278e-05       69.8193      0.4963      0.4963      885   \n",
      "    Iter      log prob        ||dx||      ||grad||       alpha      alpha0  # evals  Notes \n",
      "     648       4640.69   8.20189e-05       79.5245   1.026e-06       0.001      987  LS failed, Hessian reset \n",
      "     699       4640.73   3.24203e-05       66.1073      0.5098           1     1049   \n",
      "    Iter      log prob        ||dx||      ||grad||       alpha      alpha0  # evals  Notes \n",
      "     740       4640.74   2.35966e-07        75.373      0.4673      0.4673     1101   \n",
      "Optimization terminated normally: \n",
      "  Convergence detected: relative gradient magnitude is below tolerance\n"
     ]
    }
   ],
   "source": [
    "m = Prophet()\n",
    "m.fit(btc_fb_test)"
   ]
  },
  {
   "cell_type": "code",
   "execution_count": 159,
   "id": "2932cbf7-2539-412a-9c6b-26b85766f07e",
   "metadata": {},
   "outputs": [],
   "source": [
    "future = m.make_future_dataframe(periods=94) # Periods defines the number of days into the future that we are trying to predict."
   ]
  },
  {
   "cell_type": "code",
   "execution_count": 160,
   "id": "b066bae2-cdf8-4548-ac80-0a5b449c1e8b",
   "metadata": {},
   "outputs": [
    {
     "data": {
      "text/html": [
       "<div>\n",
       "<style scoped>\n",
       "    .dataframe tbody tr th:only-of-type {\n",
       "        vertical-align: middle;\n",
       "    }\n",
       "\n",
       "    .dataframe tbody tr th {\n",
       "        vertical-align: top;\n",
       "    }\n",
       "\n",
       "    .dataframe thead th {\n",
       "        text-align: right;\n",
       "    }\n",
       "</style>\n",
       "<table border=\"1\" class=\"dataframe\">\n",
       "  <thead>\n",
       "    <tr style=\"text-align: right;\">\n",
       "      <th></th>\n",
       "      <th>ds</th>\n",
       "    </tr>\n",
       "  </thead>\n",
       "  <tbody>\n",
       "    <tr>\n",
       "      <th>0</th>\n",
       "      <td>2015-10-08 04:00:00</td>\n",
       "    </tr>\n",
       "    <tr>\n",
       "      <th>1</th>\n",
       "      <td>2015-10-09 04:00:00</td>\n",
       "    </tr>\n",
       "    <tr>\n",
       "      <th>2</th>\n",
       "      <td>2015-10-10 04:00:00</td>\n",
       "    </tr>\n",
       "    <tr>\n",
       "      <th>3</th>\n",
       "      <td>2015-10-11 04:00:00</td>\n",
       "    </tr>\n",
       "    <tr>\n",
       "      <th>4</th>\n",
       "      <td>2015-10-12 04:00:00</td>\n",
       "    </tr>\n",
       "  </tbody>\n",
       "</table>\n",
       "</div>"
      ],
      "text/plain": [
       "                   ds\n",
       "0 2015-10-08 04:00:00\n",
       "1 2015-10-09 04:00:00\n",
       "2 2015-10-10 04:00:00\n",
       "3 2015-10-11 04:00:00\n",
       "4 2015-10-12 04:00:00"
      ]
     },
     "execution_count": 160,
     "metadata": {},
     "output_type": "execute_result"
    }
   ],
   "source": [
    "future.head()"
   ]
  },
  {
   "cell_type": "code",
   "execution_count": 161,
   "id": "3e50d956-1eb8-48c9-9235-bde3ba758163",
   "metadata": {},
   "outputs": [
    {
     "data": {
      "text/html": [
       "<div>\n",
       "<style scoped>\n",
       "    .dataframe tbody tr th:only-of-type {\n",
       "        vertical-align: middle;\n",
       "    }\n",
       "\n",
       "    .dataframe tbody tr th {\n",
       "        vertical-align: top;\n",
       "    }\n",
       "\n",
       "    .dataframe thead th {\n",
       "        text-align: right;\n",
       "    }\n",
       "</style>\n",
       "<table border=\"1\" class=\"dataframe\">\n",
       "  <thead>\n",
       "    <tr style=\"text-align: right;\">\n",
       "      <th></th>\n",
       "      <th>ds</th>\n",
       "      <th>yhat</th>\n",
       "      <th>yhat_lower</th>\n",
       "      <th>yhat_upper</th>\n",
       "    </tr>\n",
       "  </thead>\n",
       "  <tbody>\n",
       "    <tr>\n",
       "      <th>0</th>\n",
       "      <td>2015-10-08 04:00:00</td>\n",
       "      <td>-1947.057613</td>\n",
       "      <td>-8194.353794</td>\n",
       "      <td>4706.685631</td>\n",
       "    </tr>\n",
       "    <tr>\n",
       "      <th>1</th>\n",
       "      <td>2015-10-09 04:00:00</td>\n",
       "      <td>-1741.065936</td>\n",
       "      <td>-8410.025552</td>\n",
       "      <td>4621.467844</td>\n",
       "    </tr>\n",
       "    <tr>\n",
       "      <th>2</th>\n",
       "      <td>2015-10-10 04:00:00</td>\n",
       "      <td>-1627.480894</td>\n",
       "      <td>-8178.602661</td>\n",
       "      <td>5064.992585</td>\n",
       "    </tr>\n",
       "    <tr>\n",
       "      <th>3</th>\n",
       "      <td>2015-10-11 04:00:00</td>\n",
       "      <td>-1462.370353</td>\n",
       "      <td>-7654.305414</td>\n",
       "      <td>5270.492759</td>\n",
       "    </tr>\n",
       "    <tr>\n",
       "      <th>4</th>\n",
       "      <td>2015-10-12 04:00:00</td>\n",
       "      <td>-1276.305951</td>\n",
       "      <td>-7874.416363</td>\n",
       "      <td>5341.733098</td>\n",
       "    </tr>\n",
       "  </tbody>\n",
       "</table>\n",
       "</div>"
      ],
      "text/plain": [
       "                   ds         yhat   yhat_lower   yhat_upper\n",
       "0 2015-10-08 04:00:00 -1947.057613 -8194.353794  4706.685631\n",
       "1 2015-10-09 04:00:00 -1741.065936 -8410.025552  4621.467844\n",
       "2 2015-10-10 04:00:00 -1627.480894 -8178.602661  5064.992585\n",
       "3 2015-10-11 04:00:00 -1462.370353 -7654.305414  5270.492759\n",
       "4 2015-10-12 04:00:00 -1276.305951 -7874.416363  5341.733098"
      ]
     },
     "execution_count": 161,
     "metadata": {},
     "output_type": "execute_result"
    }
   ],
   "source": [
    "forecast = m.predict(future)\n",
    "forecast[['ds', 'yhat', 'yhat_lower', 'yhat_upper']].head()"
   ]
  },
  {
   "cell_type": "code",
   "execution_count": 162,
   "id": "7e97b7d0-3d21-4375-9abb-d2b3146b51a2",
   "metadata": {},
   "outputs": [
    {
     "data": {
      "text/html": [
       "<div>\n",
       "<style scoped>\n",
       "    .dataframe tbody tr th:only-of-type {\n",
       "        vertical-align: middle;\n",
       "    }\n",
       "\n",
       "    .dataframe tbody tr th {\n",
       "        vertical-align: top;\n",
       "    }\n",
       "\n",
       "    .dataframe thead th {\n",
       "        text-align: right;\n",
       "    }\n",
       "</style>\n",
       "<table border=\"1\" class=\"dataframe\">\n",
       "  <thead>\n",
       "    <tr style=\"text-align: right;\">\n",
       "      <th></th>\n",
       "      <th>ds</th>\n",
       "      <th>trend</th>\n",
       "      <th>yhat_lower</th>\n",
       "      <th>yhat_upper</th>\n",
       "      <th>trend_lower</th>\n",
       "      <th>trend_upper</th>\n",
       "      <th>additive_terms</th>\n",
       "      <th>additive_terms_lower</th>\n",
       "      <th>additive_terms_upper</th>\n",
       "      <th>weekly</th>\n",
       "      <th>weekly_lower</th>\n",
       "      <th>weekly_upper</th>\n",
       "      <th>yearly</th>\n",
       "      <th>yearly_lower</th>\n",
       "      <th>yearly_upper</th>\n",
       "      <th>multiplicative_terms</th>\n",
       "      <th>multiplicative_terms_lower</th>\n",
       "      <th>multiplicative_terms_upper</th>\n",
       "      <th>yhat</th>\n",
       "    </tr>\n",
       "  </thead>\n",
       "  <tbody>\n",
       "    <tr>\n",
       "      <th>0</th>\n",
       "      <td>2015-10-08 04:00:00</td>\n",
       "      <td>-311.354658</td>\n",
       "      <td>-8194.353794</td>\n",
       "      <td>4706.685631</td>\n",
       "      <td>-311.354658</td>\n",
       "      <td>-311.354658</td>\n",
       "      <td>-1635.702955</td>\n",
       "      <td>-1635.702955</td>\n",
       "      <td>-1635.702955</td>\n",
       "      <td>-29.852522</td>\n",
       "      <td>-29.852522</td>\n",
       "      <td>-29.852522</td>\n",
       "      <td>-1605.850433</td>\n",
       "      <td>-1605.850433</td>\n",
       "      <td>-1605.850433</td>\n",
       "      <td>0.0</td>\n",
       "      <td>0.0</td>\n",
       "      <td>0.0</td>\n",
       "      <td>-1947.057613</td>\n",
       "    </tr>\n",
       "    <tr>\n",
       "      <th>1</th>\n",
       "      <td>2015-10-09 04:00:00</td>\n",
       "      <td>-308.509034</td>\n",
       "      <td>-8410.025552</td>\n",
       "      <td>4621.467844</td>\n",
       "      <td>-308.509034</td>\n",
       "      <td>-308.509034</td>\n",
       "      <td>-1432.556902</td>\n",
       "      <td>-1432.556902</td>\n",
       "      <td>-1432.556902</td>\n",
       "      <td>20.718966</td>\n",
       "      <td>20.718966</td>\n",
       "      <td>20.718966</td>\n",
       "      <td>-1453.275868</td>\n",
       "      <td>-1453.275868</td>\n",
       "      <td>-1453.275868</td>\n",
       "      <td>0.0</td>\n",
       "      <td>0.0</td>\n",
       "      <td>0.0</td>\n",
       "      <td>-1741.065936</td>\n",
       "    </tr>\n",
       "    <tr>\n",
       "      <th>2</th>\n",
       "      <td>2015-10-10 04:00:00</td>\n",
       "      <td>-305.663409</td>\n",
       "      <td>-8178.602661</td>\n",
       "      <td>5064.992585</td>\n",
       "      <td>-305.663409</td>\n",
       "      <td>-305.663409</td>\n",
       "      <td>-1321.817485</td>\n",
       "      <td>-1321.817485</td>\n",
       "      <td>-1321.817485</td>\n",
       "      <td>-21.686067</td>\n",
       "      <td>-21.686067</td>\n",
       "      <td>-21.686067</td>\n",
       "      <td>-1300.131418</td>\n",
       "      <td>-1300.131418</td>\n",
       "      <td>-1300.131418</td>\n",
       "      <td>0.0</td>\n",
       "      <td>0.0</td>\n",
       "      <td>0.0</td>\n",
       "      <td>-1627.480894</td>\n",
       "    </tr>\n",
       "    <tr>\n",
       "      <th>3</th>\n",
       "      <td>2015-10-11 04:00:00</td>\n",
       "      <td>-302.817785</td>\n",
       "      <td>-7654.305414</td>\n",
       "      <td>5270.492759</td>\n",
       "      <td>-302.817785</td>\n",
       "      <td>-302.817785</td>\n",
       "      <td>-1159.552569</td>\n",
       "      <td>-1159.552569</td>\n",
       "      <td>-1159.552569</td>\n",
       "      <td>-11.387005</td>\n",
       "      <td>-11.387005</td>\n",
       "      <td>-11.387005</td>\n",
       "      <td>-1148.165563</td>\n",
       "      <td>-1148.165563</td>\n",
       "      <td>-1148.165563</td>\n",
       "      <td>0.0</td>\n",
       "      <td>0.0</td>\n",
       "      <td>0.0</td>\n",
       "      <td>-1462.370353</td>\n",
       "    </tr>\n",
       "    <tr>\n",
       "      <th>4</th>\n",
       "      <td>2015-10-12 04:00:00</td>\n",
       "      <td>-299.972160</td>\n",
       "      <td>-7874.416363</td>\n",
       "      <td>5341.733098</td>\n",
       "      <td>-299.972160</td>\n",
       "      <td>-299.972160</td>\n",
       "      <td>-976.333790</td>\n",
       "      <td>-976.333790</td>\n",
       "      <td>-976.333790</td>\n",
       "      <td>22.710759</td>\n",
       "      <td>22.710759</td>\n",
       "      <td>22.710759</td>\n",
       "      <td>-999.044550</td>\n",
       "      <td>-999.044550</td>\n",
       "      <td>-999.044550</td>\n",
       "      <td>0.0</td>\n",
       "      <td>0.0</td>\n",
       "      <td>0.0</td>\n",
       "      <td>-1276.305951</td>\n",
       "    </tr>\n",
       "  </tbody>\n",
       "</table>\n",
       "</div>"
      ],
      "text/plain": [
       "                   ds       trend   yhat_lower   yhat_upper  trend_lower  \\\n",
       "0 2015-10-08 04:00:00 -311.354658 -8194.353794  4706.685631  -311.354658   \n",
       "1 2015-10-09 04:00:00 -308.509034 -8410.025552  4621.467844  -308.509034   \n",
       "2 2015-10-10 04:00:00 -305.663409 -8178.602661  5064.992585  -305.663409   \n",
       "3 2015-10-11 04:00:00 -302.817785 -7654.305414  5270.492759  -302.817785   \n",
       "4 2015-10-12 04:00:00 -299.972160 -7874.416363  5341.733098  -299.972160   \n",
       "\n",
       "   trend_upper  additive_terms  additive_terms_lower  additive_terms_upper  \\\n",
       "0  -311.354658    -1635.702955          -1635.702955          -1635.702955   \n",
       "1  -308.509034    -1432.556902          -1432.556902          -1432.556902   \n",
       "2  -305.663409    -1321.817485          -1321.817485          -1321.817485   \n",
       "3  -302.817785    -1159.552569          -1159.552569          -1159.552569   \n",
       "4  -299.972160     -976.333790           -976.333790           -976.333790   \n",
       "\n",
       "      weekly  weekly_lower  weekly_upper       yearly  yearly_lower  \\\n",
       "0 -29.852522    -29.852522    -29.852522 -1605.850433  -1605.850433   \n",
       "1  20.718966     20.718966     20.718966 -1453.275868  -1453.275868   \n",
       "2 -21.686067    -21.686067    -21.686067 -1300.131418  -1300.131418   \n",
       "3 -11.387005    -11.387005    -11.387005 -1148.165563  -1148.165563   \n",
       "4  22.710759     22.710759     22.710759  -999.044550   -999.044550   \n",
       "\n",
       "   yearly_upper  multiplicative_terms  multiplicative_terms_lower  \\\n",
       "0  -1605.850433                   0.0                         0.0   \n",
       "1  -1453.275868                   0.0                         0.0   \n",
       "2  -1300.131418                   0.0                         0.0   \n",
       "3  -1148.165563                   0.0                         0.0   \n",
       "4   -999.044550                   0.0                         0.0   \n",
       "\n",
       "   multiplicative_terms_upper         yhat  \n",
       "0                         0.0 -1947.057613  \n",
       "1                         0.0 -1741.065936  \n",
       "2                         0.0 -1627.480894  \n",
       "3                         0.0 -1462.370353  \n",
       "4                         0.0 -1276.305951  "
      ]
     },
     "execution_count": 162,
     "metadata": {},
     "output_type": "execute_result"
    }
   ],
   "source": [
    "forecast.head()"
   ]
  },
  {
   "cell_type": "code",
   "execution_count": 163,
   "id": "9f73f78a-78de-440d-90a1-1fe1e77c7b53",
   "metadata": {},
   "outputs": [],
   "source": [
    "forecast_test = forecast[[\"yhat\"]]\n",
    "forecast_test = forecast_test[2299:]\n",
    "test = btc_fb[\"close\"].copy()\n",
    "test = test[2299:]"
   ]
  },
  {
   "cell_type": "code",
   "execution_count": 164,
   "id": "cc1e82d9-be5f-49c2-ae01-518413384f71",
   "metadata": {},
   "outputs": [],
   "source": [
    "forecast_test =  np.array(forecast_test)\n",
    "test = np.array(test)"
   ]
  },
  {
   "cell_type": "code",
   "execution_count": 165,
   "id": "a473b4ba-7f85-4f0b-b76b-085b911ec550",
   "metadata": {},
   "outputs": [
    {
     "name": "stdout",
     "output_type": "stream",
     "text": [
      "predicted=59988.969833, expected=35369.000000\n",
      "predicted=60224.732712, expected=36463.330000\n",
      "predicted=60427.894619, expected=37428.060000\n",
      "predicted=60667.940397, expected=35795.030000\n",
      "predicted=60875.820890, expected=37371.180000\n",
      "predicted=61190.250157, expected=37765.270000\n",
      "predicted=61423.956417, expected=37953.810000\n",
      "predicted=61720.866948, expected=37046.280000\n",
      "predicted=62050.157125, expected=38640.920000\n",
      "predicted=62336.349543, expected=38591.080000\n",
      "predicted=62647.594220, expected=36839.210000\n",
      "predicted=62913.720893, expected=37330.900000\n",
      "predicted=63272.555785, expected=41487.510000\n",
      "predicted=63536.187130, expected=41485.000000\n",
      "predicted=63848.159455, expected=42863.790000\n",
      "predicted=64177.526687, expected=44229.630000\n",
      "predicted=64448.950015, expected=43380.730000\n",
      "predicted=64730.971633, expected=43819.660000\n",
      "predicted=64954.055597, expected=43372.170000\n",
      "predicted=65256.888488, expected=42329.090000\n",
      "predicted=65452.624617, expected=42254.290000\n",
      "predicted=65686.056249, expected=41939.740000\n",
      "predicted=65927.639501, expected=43599.820000\n",
      "predicted=66103.562482, expected=44014.680000\n",
      "predicted=66283.987451, expected=43619.610000\n",
      "predicted=66401.058942, expected=40725.830000\n",
      "predicted=66595.171238, expected=40164.680000\n",
      "predicted=66681.180633, expected=39821.460000\n",
      "predicted=66805.543635, expected=38956.630000\n",
      "predicted=66940.312409, expected=36591.460000\n",
      "predicted=67013.174609, expected=37784.060000\n",
      "predicted=67095.669907, expected=34941.840000\n",
      "predicted=67121.175645, expected=38961.510000\n",
      "predicted=67231.155350, expected=39434.490000\n",
      "predicted=67241.355862, expected=38631.680000\n",
      "predicted=67298.934443, expected=37815.020000\n",
      "predicted=67376.447263, expected=43174.080000\n",
      "predicted=67401.886460, expected=44346.160000\n",
      "predicted=67446.898021, expected=43331.620000\n",
      "predicted=67444.772748, expected=41449.630000\n",
      "predicted=67536.703844, expected=39083.020000\n",
      "predicted=67537.996563, expected=39290.050000\n",
      "predicted=67595.210933, expected=37885.040000\n",
      "predicted=67680.168542, expected=38685.620000\n",
      "predicted=67720.010113, expected=41230.390000\n",
      "predicted=67785.435642, expected=40790.000000\n",
      "predicted=67808.718832, expected=38724.130000\n",
      "predicted=67929.988847, expected=39108.990000\n",
      "predicted=67963.464313, expected=39193.800000\n",
      "predicted=68054.620042, expected=38167.610000\n",
      "predicted=68174.217006, expected=38767.400000\n",
      "predicted=68248.381810, expected=39177.730000\n",
      "predicted=68346.867023, expected=41025.460000\n",
      "predicted=68401.083729, expected=40555.620000\n",
      "predicted=68550.399002, expected=41815.860000\n",
      "predicted=68608.382956, expected=41969.760000\n",
      "predicted=68719.985668, expected=40861.300000\n",
      "predicted=68855.574331, expected=42240.260000\n",
      "predicted=68941.016840, expected=42101.270000\n",
      "predicted=69045.943134, expected=42754.740000\n",
      "predicted=69101.775733, expected=43984.860000\n",
      "predicted=69248.022254, expected=44439.250000\n",
      "predicted=69298.514764, expected=44725.150000\n",
      "predicted=69398.576446, expected=47058.740000\n",
      "predicted=69519.046230, expected=47367.160000\n",
      "predicted=69586.347897, expected=47468.070000\n",
      "predicted=69670.735294, expected=47108.130000\n",
      "predicted=69704.305494, expected=44600.000000\n",
      "predicted=69827.273065, expected=46618.390000\n",
      "predicted=69854.190681, expected=45964.350000\n",
      "predicted=69931.096983, expected=46019.340000\n",
      "predicted=70029.522735, expected=46666.700000\n",
      "predicted=70076.542137, expected=45193.400000\n",
      "predicted=70143.001364, expected=43304.160000\n",
      "predicted=70161.516455, expected=43627.540000\n",
      "predicted=70272.734062, expected=42400.010000\n",
      "predicted=70291.540571, expected=42810.850000\n",
      "predicted=70364.200729, expected=42096.930000\n",
      "predicted=70462.357030, expected=39750.000000\n",
      "predicted=70513.076858, expected=40086.760000\n",
      "predicted=70587.079564, expected=41339.600000\n",
      "predicted=70616.735624, expected=40199.810000\n",
      "predicted=70742.331396, expected=40437.470000\n",
      "predicted=70778.284899, expected=40253.710000\n",
      "predicted=70870.293667, expected=39837.450000\n",
      "predicted=70989.345703, expected=40709.480000\n",
      "predicted=71061.780377, expected=41406.000000\n",
      "predicted=71157.531122, expected=41711.060000\n",
      "predicted=71208.141815, expected=40503.040000\n",
      "predicted=71353.049994, expected=39482.000000\n",
      "predicted=71405.821971, expected=39780.940000\n",
      "predicted=71511.320501, expected=39260.920000\n",
      "predicted=71639.735626, expected=40541.180000\n",
      "predicted=71716.665111, expected=38344.790000\n",
      "predicted=71811.375917, expected=39179.010000\n"
     ]
    }
   ],
   "source": [
    "for i in range(len(forecast_test)):\n",
    "    print('predicted=%f, expected=%f' % (forecast_test[i], test[i]))"
   ]
  },
  {
   "cell_type": "code",
   "execution_count": 167,
   "id": "5a19428f-9240-4d9c-a080-0703dada4d08",
   "metadata": {},
   "outputs": [
    {
     "name": "stdout",
     "output_type": "stream",
     "text": [
      "Test RMSE: 26681.249\n"
     ]
    },
    {
     "data": {
      "image/png": "[encoded data removed]",
      "text/plain": [
       "<Figure size 432x288 with 1 Axes>"
      ]
     },
     "metadata": {
      "needs_background": "light"
     },
     "output_type": "display_data"
    }
   ],
   "source": [
    "rmse = sqrt(mean_squared_error(forecast_test, test))\n",
    "print('Test RMSE: %.3f' % rmse)\n",
    "pyplot.plot(test)\n",
    "pyplot.plot(forecast_test, color='red')\n",
    "plt.savefig('prophet_prediction.png')\n",
    "pyplot.show()"
   ]
  },
  {
   "cell_type": "code",
   "execution_count": 168,
   "id": "d0a10530-55c5-46b4-8c45-ad253bee6467",
   "metadata": {},
   "outputs": [
    {
     "data": {
      "image/png": "[encoded data removed]",
      "text/plain": [
       "<Figure size 720x432 with 1 Axes>"
      ]
     },
     "metadata": {},
     "output_type": "display_data"
    }
   ],
   "source": [
    "fig1 = m.plot(forecast)"
   ]
  },
  {
   "cell_type": "code",
   "execution_count": 169,
   "id": "f96ea567-0274-4316-83f4-54b690437af8",
   "metadata": {},
   "outputs": [],
   "source": [
    "btc_fb1 = btc.copy()\n",
    "btc_fb1.drop(columns = [\"open\",\"high\",\"low\",\"Volume BTC\",\"Volume USD\"],inplace = True)\n",
    "btc_fb1 = btc_fb[::-1]\n",
    "btc_fb1.reset_index(drop=True, inplace = True)\n",
    "btc_fb_test1 = btc_fb1.copy()\n",
    "btc_fb_test1.rename(columns={\"close\":\"y\", \"date\":\"ds\"},inplace = True)"
   ]
  },
  {
   "cell_type": "code",
   "execution_count": 170,
   "id": "afa2f59b-c1c9-42b6-ba90-84bd7eedc627",
   "metadata": {},
   "outputs": [
    {
     "name": "stdout",
     "output_type": "stream",
     "text": [
      "Initial log joint probability = -39.7058\n"
     ]
    },
    {
     "data": {
      "text/plain": [
       "<prophet.forecaster.Prophet at 0x7febce8e0b90>"
      ]
     },
     "execution_count": 170,
     "metadata": {},
     "output_type": "execute_result"
    },
    {
     "name": "stdout",
     "output_type": "stream",
     "text": [
      "    Iter      log prob        ||dx||      ||grad||       alpha      alpha0  # evals  Notes \n",
      "      99       4478.67    0.00300982       420.703     0.04284           1      127   \n",
      "    Iter      log prob        ||dx||      ||grad||       alpha      alpha0  # evals  Notes \n",
      "     199       4562.05      0.508165       1340.81           1           1      248   \n",
      "    Iter      log prob        ||dx||      ||grad||       alpha      alpha0  # evals  Notes \n",
      "     299       4606.73     0.0146339       209.312           1           1      369   \n",
      "    Iter      log prob        ||dx||      ||grad||       alpha      alpha0  # evals  Notes \n",
      "     373       4627.95   0.000654684       686.208   1.519e-06       0.001      500  LS failed, Hessian reset \n",
      "     399       4634.51    0.00924107       301.202           1           1      529   \n",
      "    Iter      log prob        ||dx||      ||grad||       alpha      alpha0  # evals  Notes \n",
      "     499        4645.1   0.000461384       95.6881      0.9604    0.009604      668   \n",
      "    Iter      log prob        ||dx||      ||grad||       alpha      alpha0  # evals  Notes \n",
      "     599       4652.19    0.00235536       97.4295           1           1      802   \n",
      "    Iter      log prob        ||dx||      ||grad||       alpha      alpha0  # evals  Notes \n",
      "     687       4654.55   9.59004e-05       129.788   6.124e-07       0.001      964  LS failed, Hessian reset \n",
      "     699       4655.09   0.000145506       61.1124      0.4172      0.4172      980   \n",
      "    Iter      log prob        ||dx||      ||grad||       alpha      alpha0  # evals  Notes \n",
      "     736       4655.37   7.34004e-05       104.704   6.325e-07       0.001     1060  LS failed, Hessian reset \n",
      "     799       4658.07    0.00299402       383.077           1           1     1144   \n",
      "    Iter      log prob        ||dx||      ||grad||       alpha      alpha0  # evals  Notes \n",
      "     899       4666.87     0.0879563       623.865           1           1     1262   \n",
      "    Iter      log prob        ||dx||      ||grad||       alpha      alpha0  # evals  Notes \n",
      "     999       4686.22   0.000679024       81.6915           1           1     1389   \n",
      "    Iter      log prob        ||dx||      ||grad||       alpha      alpha0  # evals  Notes \n",
      "    1099       4689.28    0.00016738       76.5997      0.7305      0.7305     1518   \n",
      "    Iter      log prob        ||dx||      ||grad||       alpha      alpha0  # evals  Notes \n",
      "    1199       4689.62    0.00239142       131.475      0.7625      0.7625     1639   \n",
      "    Iter      log prob        ||dx||      ||grad||       alpha      alpha0  # evals  Notes \n",
      "    1299       4693.04    0.00233386       95.3374           1           1     1773   \n",
      "    Iter      log prob        ||dx||      ||grad||       alpha      alpha0  # evals  Notes \n",
      "    1303       4693.08   8.94664e-05       115.068   1.044e-06       0.001     1820  LS failed, Hessian reset \n",
      "    1399        4693.5    0.00084039       100.085           1           1     1950   \n",
      "    Iter      log prob        ||dx||      ||grad||       alpha      alpha0  # evals  Notes \n",
      "    1499       4694.09   7.13532e-05       65.2864      0.2505      0.9247     2080   \n",
      "    Iter      log prob        ||dx||      ||grad||       alpha      alpha0  # evals  Notes \n",
      "    1559       4694.28   0.000492216        213.27   3.243e-06       0.001     2190  LS failed, Hessian reset \n",
      "    1585       4694.42   0.000233158       198.025   3.616e-06       0.001     2272  LS failed, Hessian reset \n",
      "    1599       4694.43   4.91593e-05       69.9998           1           1     2291   \n",
      "    Iter      log prob        ||dx||      ||grad||       alpha      alpha0  # evals  Notes \n",
      "    1604       4694.43   3.69187e-05       69.8281   5.192e-07       0.001     2336  LS failed, Hessian reset \n",
      "    1646       4694.44   1.57645e-06       55.8896      0.6162           1     2392   \n",
      "Optimization terminated normally: \n",
      "  Convergence detected: relative gradient magnitude is below tolerance\n"
     ]
    }
   ],
   "source": [
    "m1 = Prophet(daily_seasonality=True)\n",
    "m1.fit(btc_fb_test1)"
   ]
  },
  {
   "cell_type": "code",
   "execution_count": 171,
   "id": "fef12fc4-51fb-4f7d-a9b9-887dcba8f6e6",
   "metadata": {},
   "outputs": [],
   "source": [
    "future = m1.make_future_dataframe(periods=365)\n",
    "forecast = m1.predict(future)"
   ]
  },
  {
   "cell_type": "code",
   "execution_count": 172,
   "id": "e88c0736-ee78-4ecd-be79-f5196e19074c",
   "metadata": {},
   "outputs": [
    {
     "data": {
      "image/png": "[encoded data removed]",
      "text/plain": [
       "<Figure size 720x432 with 1 Axes>"
      ]
     },
     "metadata": {},
     "output_type": "display_data"
    }
   ],
   "source": [
    "fig2 = m1.plot(forecast)\n",
    "plt.savefig('prophet.png')"
   ]
  },
  {
   "cell_type": "markdown",
   "id": "83be12fb-0921-42e8-a5c5-0db7dd8d3a76",
   "metadata": {},
   "source": [
    "### Saving output to bucket"
   ]
  },
  {
   "cell_type": "code",
   "execution_count": 108,
   "id": "163ce29e-e04f-4556-9f48-d6fc6cfe555a",
   "metadata": {},
   "outputs": [],
   "source": [
    "from google.cloud import storage"
   ]
  },
  {
   "cell_type": "code",
   "execution_count": 109,
   "id": "8410a480-70fb-47c0-b613-214ce59263d8",
   "metadata": {},
   "outputs": [],
   "source": [
    "client = storage.Client()"
   ]
  },
  {
   "cell_type": "code",
   "execution_count": 110,
   "id": "117a2848-a4a3-4f4d-9da0-47cbe435a3d7",
   "metadata": {},
   "outputs": [],
   "source": [
    "bucket = client.get_bucket('crypto-project')"
   ]
  },
  {
   "cell_type": "code",
   "execution_count": 111,
   "id": "f7cd8947-4f2d-4d6f-aa47-5f1072c8b559",
   "metadata": {},
   "outputs": [],
   "source": [
    "blob = bucket.blob('btc.png')\n",
    "blob.upload_from_filename('btc.png')"
   ]
  },
  {
   "cell_type": "code",
   "execution_count": 112,
   "id": "6f87ea25-eb51-4223-9d2d-d4c419a4bdc5",
   "metadata": {},
   "outputs": [],
   "source": [
    "blob = bucket.blob('btcarima.png')\n",
    "blob.upload_from_filename('btcarima.png')"
   ]
  },
  {
   "cell_type": "code",
   "execution_count": 113,
   "id": "1e60f4ba-2e5d-47a8-a9b9-df577757a64e",
   "metadata": {},
   "outputs": [],
   "source": [
    "blob = bucket.blob('prophet.png')\n",
    "blob.upload_from_filename('prophet.png')"
   ]
  },
  {
   "cell_type": "code",
   "execution_count": 114,
   "id": "e4cb1a1f-a24d-422d-affe-65fb11b36880",
   "metadata": {},
   "outputs": [],
   "source": [
    "blob = bucket.blob('prophet_prediction.png')\n",
    "blob.upload_from_filename('prophet_prediction.png')"
   ]
  },
  {
   "cell_type": "markdown",
   "id": "eb704ded-6010-443b-91a5-cf7371cc1648",
   "metadata": {},
   "source": [
    "## Results\n",
    "### Using arima, we were not able to accurately predict the price of Bitcoin. The algorithm predicted the price of bitcoin to remain stable but the price dropped dramatically. This is to be somewhat expected as Bitcoin and all cryptocrrencies follow an erratic pattern. "
   ]
  },
  {
   "cell_type": "markdown",
   "id": "9cb79844-0d48-4071-a434-c88920d5ed92",
   "metadata": {},
   "source": [
    "## Discussion \n",
    "### "
   ]
  },
  {
   "cell_type": "markdown",
   "id": "1788c9c9-0add-4a2a-861a-f40dc5f68974",
   "metadata": {},
   "source": [
    "## Conclusion \n",
    "### "
   ]
  },
  {
   "cell_type": "markdown",
   "id": "879cfab4-e0c4-488f-a1d3-19cdb94f1c8b",
   "metadata": {},
   "source": [
    "## References\n",
    "### 1. https://www.qwiklabs.com/focuses/1846?catalog_rank=%7B%22rank%22%3A1%2C%22num_filters%22%3A0%2C%22has_search%22%3Atrue%7D&parent=catalog&search_id=7008005\n",
    "### 2. https://cloud.google.com/ai-platform/training/docs/working-with-cloud-storage\n",
    "### 3. https://www.cryptodatadownload.com/\n",
    "### 4. https://github.com/googleapis/python-storage\n",
    "### 5. https://stackoverflow.com/questions/37003862/how-to-upload-a-file-to-google-cloud-storage-on-python-3"
   ]
  },
  {
   "cell_type": "code",
   "execution_count": null,
   "id": "e51b6636-3f8c-4b4e-b1a7-af04dc5652d1",
   "metadata": {},
   "outputs": [],
   "source": []
  }
 ],
 "metadata": {
  "environment": {
   "kernel": "python3",
   "name": "common-cpu.m91",
   "type": "gcloud",
   "uri": "gcr.io/deeplearning-platform-release/base-cpu:m91"
  },
  "kernelspec": {
   "display_name": "Python 3",
   "language": "python",
   "name": "python3"
  },
  "language_info": {
   "codemirror_mode": {
    "name": "ipython",
    "version": 3
   },
   "file_extension": ".py",
   "mimetype": "text/x-python",
   "name": "python",
   "nbconvert_exporter": "python",
   "pygments_lexer": "ipython3",
   "version": "3.7.12"
  }
 },
 "nbformat": 4,
 "nbformat_minor": 5
}
