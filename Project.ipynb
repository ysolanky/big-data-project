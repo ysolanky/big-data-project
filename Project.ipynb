{
 "cells": [
  {
   "cell_type": "code",
   "execution_count": 6,
   "id": "d35b8465-6fd2-4d06-88bc-987f89b70591",
   "metadata": {},
   "outputs": [],
   "source": [
    "import numpy as np\n",
    "import pandas as pd\n",
    "import matplotlib.pyplot as plt\n",
    "import sklearn as skl\n",
    "import seaborn as sns\n",
    "from datetime import datetime,date"
   ]
  },
  {
   "cell_type": "code",
   "execution_count": 29,
   "id": "6aa55c0f-7777-471b-bd36-9e2d56257f77",
   "metadata": {},
   "outputs": [],
   "source": [
    "# Import the data files. We are going to be analysing and predicting 3 separate cryptocurrencies. \n",
    "btc = pd.read_csv(\"Gemini_BTCUSD_d.csv\",skiprows=1) #Bitcoin\n",
    "eth = pd.read_csv(\"Gemini_ETHUSD_d.csv\",skiprows=1) #Ehtereum\n",
    "ltc = pd.read_csv(\"Gemini_LTCUSD_d.csv\",skiprows=1) #Litecoin\n",
    "dog = pd.read_csv(\"Gemini_DOGEUSD_d.csv\",skiprows=1) #Dogecoin"
   ]
  },
  {
   "cell_type": "code",
   "execution_count": 30,
   "id": "7ffc5e6c-7099-4edc-b8e8-f6b3ee9a5835",
   "metadata": {},
   "outputs": [
    {
     "data": {
      "text/html": [
       "<div>\n",
       "<style scoped>\n",
       "    .dataframe tbody tr th:only-of-type {\n",
       "        vertical-align: middle;\n",
       "    }\n",
       "\n",
       "    .dataframe tbody tr th {\n",
       "        vertical-align: top;\n",
       "    }\n",
       "\n",
       "    .dataframe thead th {\n",
       "        text-align: right;\n",
       "    }\n",
       "</style>\n",
       "<table border=\"1\" class=\"dataframe\">\n",
       "  <thead>\n",
       "    <tr style=\"text-align: right;\">\n",
       "      <th></th>\n",
       "      <th>unix</th>\n",
       "      <th>date</th>\n",
       "      <th>symbol</th>\n",
       "      <th>open</th>\n",
       "      <th>high</th>\n",
       "      <th>low</th>\n",
       "      <th>close</th>\n",
       "      <th>Volume BTC</th>\n",
       "      <th>Volume USD</th>\n",
       "    </tr>\n",
       "  </thead>\n",
       "  <tbody>\n",
       "    <tr>\n",
       "      <th>0</th>\n",
       "      <td>1651032000000</td>\n",
       "      <td>2022-04-27 04:00:00</td>\n",
       "      <td>BTC/USD</td>\n",
       "      <td>38344.79</td>\n",
       "      <td>39463.17</td>\n",
       "      <td>38316.92</td>\n",
       "      <td>39179.01</td>\n",
       "      <td>646.587599</td>\n",
       "      <td>2.533266e+07</td>\n",
       "    </tr>\n",
       "    <tr>\n",
       "      <th>1</th>\n",
       "      <td>1650945600000</td>\n",
       "      <td>2022-04-26 04:00:00</td>\n",
       "      <td>BTC/USD</td>\n",
       "      <td>40541.18</td>\n",
       "      <td>40783.69</td>\n",
       "      <td>37697.42</td>\n",
       "      <td>38344.79</td>\n",
       "      <td>1297.579024</td>\n",
       "      <td>4.975540e+07</td>\n",
       "    </tr>\n",
       "    <tr>\n",
       "      <th>2</th>\n",
       "      <td>1650859200000</td>\n",
       "      <td>2022-04-25 04:00:00</td>\n",
       "      <td>BTC/USD</td>\n",
       "      <td>39260.92</td>\n",
       "      <td>40765.94</td>\n",
       "      <td>38221.87</td>\n",
       "      <td>40541.18</td>\n",
       "      <td>1370.403628</td>\n",
       "      <td>5.555778e+07</td>\n",
       "    </tr>\n",
       "    <tr>\n",
       "      <th>3</th>\n",
       "      <td>1650772800000</td>\n",
       "      <td>2022-04-24 04:00:00</td>\n",
       "      <td>BTC/USD</td>\n",
       "      <td>39780.94</td>\n",
       "      <td>39933.07</td>\n",
       "      <td>38695.95</td>\n",
       "      <td>39260.92</td>\n",
       "      <td>515.669742</td>\n",
       "      <td>2.024567e+07</td>\n",
       "    </tr>\n",
       "    <tr>\n",
       "      <th>4</th>\n",
       "      <td>1650686400000</td>\n",
       "      <td>2022-04-23 04:00:00</td>\n",
       "      <td>BTC/USD</td>\n",
       "      <td>39482.00</td>\n",
       "      <td>39988.99</td>\n",
       "      <td>39299.82</td>\n",
       "      <td>39780.94</td>\n",
       "      <td>402.215227</td>\n",
       "      <td>1.600050e+07</td>\n",
       "    </tr>\n",
       "  </tbody>\n",
       "</table>\n",
       "</div>"
      ],
      "text/plain": [
       "            unix                 date   symbol      open      high       low  \\\n",
       "0  1651032000000  2022-04-27 04:00:00  BTC/USD  38344.79  39463.17  38316.92   \n",
       "1  1650945600000  2022-04-26 04:00:00  BTC/USD  40541.18  40783.69  37697.42   \n",
       "2  1650859200000  2022-04-25 04:00:00  BTC/USD  39260.92  40765.94  38221.87   \n",
       "3  1650772800000  2022-04-24 04:00:00  BTC/USD  39780.94  39933.07  38695.95   \n",
       "4  1650686400000  2022-04-23 04:00:00  BTC/USD  39482.00  39988.99  39299.82   \n",
       "\n",
       "      close   Volume BTC    Volume USD  \n",
       "0  39179.01   646.587599  2.533266e+07  \n",
       "1  38344.79  1297.579024  4.975540e+07  \n",
       "2  40541.18  1370.403628  5.555778e+07  \n",
       "3  39260.92   515.669742  2.024567e+07  \n",
       "4  39780.94   402.215227  1.600050e+07  "
      ]
     },
     "execution_count": 30,
     "metadata": {},
     "output_type": "execute_result"
    }
   ],
   "source": [
    "btc.head()"
   ]
  },
  {
   "cell_type": "code",
   "execution_count": 32,
   "id": "48d3d4cf-7e20-444d-8ac3-c1f3f7df36b7",
   "metadata": {},
   "outputs": [],
   "source": [
    "for i in [btc, eth, ltc, dog]:\n",
    "    i.drop(columns = [\"unix\",\"symbol\"],inplace = True)"
   ]
  },
  {
   "cell_type": "code",
   "execution_count": 34,
   "id": "567c747c-c02e-401c-b0f4-58ab4c06ca1f",
   "metadata": {},
   "outputs": [
    {
     "data": {
      "text/html": [
       "<div>\n",
       "<style scoped>\n",
       "    .dataframe tbody tr th:only-of-type {\n",
       "        vertical-align: middle;\n",
       "    }\n",
       "\n",
       "    .dataframe tbody tr th {\n",
       "        vertical-align: top;\n",
       "    }\n",
       "\n",
       "    .dataframe thead th {\n",
       "        text-align: right;\n",
       "    }\n",
       "</style>\n",
       "<table border=\"1\" class=\"dataframe\">\n",
       "  <thead>\n",
       "    <tr style=\"text-align: right;\">\n",
       "      <th></th>\n",
       "      <th>date</th>\n",
       "      <th>open</th>\n",
       "      <th>high</th>\n",
       "      <th>low</th>\n",
       "      <th>close</th>\n",
       "      <th>Volume BTC</th>\n",
       "      <th>Volume USD</th>\n",
       "    </tr>\n",
       "  </thead>\n",
       "  <tbody>\n",
       "    <tr>\n",
       "      <th>0</th>\n",
       "      <td>2022-04-27 04:00:00</td>\n",
       "      <td>38344.79</td>\n",
       "      <td>39463.17</td>\n",
       "      <td>38316.92</td>\n",
       "      <td>39179.01</td>\n",
       "      <td>646.587599</td>\n",
       "      <td>2.533266e+07</td>\n",
       "    </tr>\n",
       "    <tr>\n",
       "      <th>1</th>\n",
       "      <td>2022-04-26 04:00:00</td>\n",
       "      <td>40541.18</td>\n",
       "      <td>40783.69</td>\n",
       "      <td>37697.42</td>\n",
       "      <td>38344.79</td>\n",
       "      <td>1297.579024</td>\n",
       "      <td>4.975540e+07</td>\n",
       "    </tr>\n",
       "    <tr>\n",
       "      <th>2</th>\n",
       "      <td>2022-04-25 04:00:00</td>\n",
       "      <td>39260.92</td>\n",
       "      <td>40765.94</td>\n",
       "      <td>38221.87</td>\n",
       "      <td>40541.18</td>\n",
       "      <td>1370.403628</td>\n",
       "      <td>5.555778e+07</td>\n",
       "    </tr>\n",
       "    <tr>\n",
       "      <th>3</th>\n",
       "      <td>2022-04-24 04:00:00</td>\n",
       "      <td>39780.94</td>\n",
       "      <td>39933.07</td>\n",
       "      <td>38695.95</td>\n",
       "      <td>39260.92</td>\n",
       "      <td>515.669742</td>\n",
       "      <td>2.024567e+07</td>\n",
       "    </tr>\n",
       "    <tr>\n",
       "      <th>4</th>\n",
       "      <td>2022-04-23 04:00:00</td>\n",
       "      <td>39482.00</td>\n",
       "      <td>39988.99</td>\n",
       "      <td>39299.82</td>\n",
       "      <td>39780.94</td>\n",
       "      <td>402.215227</td>\n",
       "      <td>1.600050e+07</td>\n",
       "    </tr>\n",
       "  </tbody>\n",
       "</table>\n",
       "</div>"
      ],
      "text/plain": [
       "                  date      open      high       low     close   Volume BTC  \\\n",
       "0  2022-04-27 04:00:00  38344.79  39463.17  38316.92  39179.01   646.587599   \n",
       "1  2022-04-26 04:00:00  40541.18  40783.69  37697.42  38344.79  1297.579024   \n",
       "2  2022-04-25 04:00:00  39260.92  40765.94  38221.87  40541.18  1370.403628   \n",
       "3  2022-04-24 04:00:00  39780.94  39933.07  38695.95  39260.92   515.669742   \n",
       "4  2022-04-23 04:00:00  39482.00  39988.99  39299.82  39780.94   402.215227   \n",
       "\n",
       "     Volume USD  \n",
       "0  2.533266e+07  \n",
       "1  4.975540e+07  \n",
       "2  5.555778e+07  \n",
       "3  2.024567e+07  \n",
       "4  1.600050e+07  "
      ]
     },
     "execution_count": 34,
     "metadata": {},
     "output_type": "execute_result"
    }
   ],
   "source": [
    "btc.head()"
   ]
  },
  {
   "cell_type": "code",
   "execution_count": 35,
   "id": "100c8504-4d64-44fa-825f-75e7fee97fcb",
   "metadata": {},
   "outputs": [
    {
     "data": {
      "text/html": [
       "<div>\n",
       "<style scoped>\n",
       "    .dataframe tbody tr th:only-of-type {\n",
       "        vertical-align: middle;\n",
       "    }\n",
       "\n",
       "    .dataframe tbody tr th {\n",
       "        vertical-align: top;\n",
       "    }\n",
       "\n",
       "    .dataframe thead th {\n",
       "        text-align: right;\n",
       "    }\n",
       "</style>\n",
       "<table border=\"1\" class=\"dataframe\">\n",
       "  <thead>\n",
       "    <tr style=\"text-align: right;\">\n",
       "      <th></th>\n",
       "      <th>open</th>\n",
       "      <th>high</th>\n",
       "      <th>low</th>\n",
       "      <th>close</th>\n",
       "      <th>Volume BTC</th>\n",
       "      <th>Volume USD</th>\n",
       "    </tr>\n",
       "  </thead>\n",
       "  <tbody>\n",
       "    <tr>\n",
       "      <th>count</th>\n",
       "      <td>2394.000000</td>\n",
       "      <td>2394.000000</td>\n",
       "      <td>2394.000000</td>\n",
       "      <td>2394.000000</td>\n",
       "      <td>2394.000000</td>\n",
       "      <td>2.394000e+03</td>\n",
       "    </tr>\n",
       "    <tr>\n",
       "      <th>mean</th>\n",
       "      <td>13901.230188</td>\n",
       "      <td>14317.782135</td>\n",
       "      <td>13458.189294</td>\n",
       "      <td>13917.536462</td>\n",
       "      <td>3209.448654</td>\n",
       "      <td>3.477780e+07</td>\n",
       "    </tr>\n",
       "    <tr>\n",
       "      <th>std</th>\n",
       "      <td>17101.913662</td>\n",
       "      <td>17597.578163</td>\n",
       "      <td>16552.239402</td>\n",
       "      <td>17107.359712</td>\n",
       "      <td>3885.995506</td>\n",
       "      <td>4.990896e+07</td>\n",
       "    </tr>\n",
       "    <tr>\n",
       "      <th>min</th>\n",
       "      <td>0.000000</td>\n",
       "      <td>245.000000</td>\n",
       "      <td>0.000000</td>\n",
       "      <td>243.600000</td>\n",
       "      <td>0.000000</td>\n",
       "      <td>0.000000e+00</td>\n",
       "    </tr>\n",
       "    <tr>\n",
       "      <th>25%</th>\n",
       "      <td>2187.042500</td>\n",
       "      <td>2324.060000</td>\n",
       "      <td>2065.305000</td>\n",
       "      <td>2210.945000</td>\n",
       "      <td>1042.351601</td>\n",
       "      <td>3.813598e+06</td>\n",
       "    </tr>\n",
       "    <tr>\n",
       "      <th>50%</th>\n",
       "      <td>7434.715000</td>\n",
       "      <td>7653.760000</td>\n",
       "      <td>7256.310000</td>\n",
       "      <td>7434.715000</td>\n",
       "      <td>1918.755188</td>\n",
       "      <td>1.705102e+07</td>\n",
       "    </tr>\n",
       "    <tr>\n",
       "      <th>75%</th>\n",
       "      <td>12302.035000</td>\n",
       "      <td>13027.722500</td>\n",
       "      <td>11695.102500</td>\n",
       "      <td>12450.150000</td>\n",
       "      <td>3673.998996</td>\n",
       "      <td>4.552247e+07</td>\n",
       "    </tr>\n",
       "    <tr>\n",
       "      <th>max</th>\n",
       "      <td>68525.750000</td>\n",
       "      <td>69000.000000</td>\n",
       "      <td>66262.480000</td>\n",
       "      <td>68525.750000</td>\n",
       "      <td>54142.433523</td>\n",
       "      <td>6.914380e+08</td>\n",
       "    </tr>\n",
       "  </tbody>\n",
       "</table>\n",
       "</div>"
      ],
      "text/plain": [
       "               open          high           low         close    Volume BTC  \\\n",
       "count   2394.000000   2394.000000   2394.000000   2394.000000   2394.000000   \n",
       "mean   13901.230188  14317.782135  13458.189294  13917.536462   3209.448654   \n",
       "std    17101.913662  17597.578163  16552.239402  17107.359712   3885.995506   \n",
       "min        0.000000    245.000000      0.000000    243.600000      0.000000   \n",
       "25%     2187.042500   2324.060000   2065.305000   2210.945000   1042.351601   \n",
       "50%     7434.715000   7653.760000   7256.310000   7434.715000   1918.755188   \n",
       "75%    12302.035000  13027.722500  11695.102500  12450.150000   3673.998996   \n",
       "max    68525.750000  69000.000000  66262.480000  68525.750000  54142.433523   \n",
       "\n",
       "         Volume USD  \n",
       "count  2.394000e+03  \n",
       "mean   3.477780e+07  \n",
       "std    4.990896e+07  \n",
       "min    0.000000e+00  \n",
       "25%    3.813598e+06  \n",
       "50%    1.705102e+07  \n",
       "75%    4.552247e+07  \n",
       "max    6.914380e+08  "
      ]
     },
     "execution_count": 35,
     "metadata": {},
     "output_type": "execute_result"
    }
   ],
   "source": [
    "btc.describe()"
   ]
  },
  {
   "cell_type": "code",
   "execution_count": 37,
   "id": "132166c8-9ec1-4e23-a9cf-b91dea988d3a",
   "metadata": {},
   "outputs": [
    {
     "data": {
      "text/plain": [
       "0       2022-04-27 04:00:00\n",
       "1       2022-04-26 04:00:00\n",
       "2       2022-04-25 04:00:00\n",
       "3       2022-04-24 04:00:00\n",
       "4       2022-04-23 04:00:00\n",
       "               ...         \n",
       "2389    2015-10-12 04:00:00\n",
       "2390    2015-10-11 04:00:00\n",
       "2391    2015-10-10 04:00:00\n",
       "2392    2015-10-09 04:00:00\n",
       "2393    2015-10-08 04:00:00\n",
       "Name: date, Length: 2394, dtype: object"
      ]
     },
     "execution_count": 37,
     "metadata": {},
     "output_type": "execute_result"
    }
   ],
   "source": [
    "btc[\"date\"]"
   ]
  },
  {
   "cell_type": "code",
   "execution_count": 40,
   "id": "89aadbb7-7e90-45ff-b86e-ba4a517c17c2",
   "metadata": {},
   "outputs": [],
   "source": [
    "for i in [btc, eth, ltc,dog]:\n",
    "    i['date'] = pd.to_datetime(i['date'])"
   ]
  },
  {
   "cell_type": "code",
   "execution_count": 41,
   "id": "2a56d9b1-a21d-47d6-8a94-689c4cf1dfa7",
   "metadata": {},
   "outputs": [
    {
     "data": {
      "text/plain": [
       "0      2022-04-27 04:00:00\n",
       "1      2022-04-26 04:00:00\n",
       "2      2022-04-25 04:00:00\n",
       "3      2022-04-24 04:00:00\n",
       "4      2022-04-23 04:00:00\n",
       "               ...        \n",
       "2389   2015-10-12 04:00:00\n",
       "2390   2015-10-11 04:00:00\n",
       "2391   2015-10-10 04:00:00\n",
       "2392   2015-10-09 04:00:00\n",
       "2393   2015-10-08 04:00:00\n",
       "Name: date, Length: 2394, dtype: datetime64[ns]"
      ]
     },
     "execution_count": 41,
     "metadata": {},
     "output_type": "execute_result"
    }
   ],
   "source": [
    "btc[\"date\"]"
   ]
  },
  {
   "cell_type": "code",
   "execution_count": 43,
   "id": "74c84fb6-46ba-4ad2-b89c-bd3a1a8c6cd1",
   "metadata": {},
   "outputs": [
    {
     "data": {
      "image/png": "[encoded data removed]",
      "text/plain": [
       "<Figure size 432x288 with 1 Axes>"
      ]
     },
     "metadata": {
      "needs_background": "light"
     },
     "output_type": "display_data"
    }
   ],
   "source": [
    "sns.lineplot(x=\"date\",y=\"close\",data = btc)\n",
    "plt.xticks(rotation=25)\n",
    "plt.savefig('btc.png')\n",
    "#We are plotting CLOSE price. Which is the price of the cryptocurency at the end of the day"
   ]
  },
  {
   "cell_type": "code",
   "execution_count": 44,
   "id": "dbe97176-515e-4f68-891e-508c82157ed0",
   "metadata": {},
   "outputs": [
    {
     "data": {
      "image/png": "[encoded data removed]",
      "text/plain": [
       "<Figure size 432x288 with 1 Axes>"
      ]
     },
     "metadata": {
      "needs_background": "light"
     },
     "output_type": "display_data"
    }
   ],
   "source": [
    "sns.lineplot(x=\"date\",y=\"close\",data = ltc)\n",
    "plt.xticks(rotation=25)\n",
    "plt.savefig('ltc.png')\n",
    "#We are plotting CLOSE price. Which is the price of the cryptocurency at the end of the day"
   ]
  },
  {
   "cell_type": "code",
   "execution_count": 45,
   "id": "a69c4dcb-3b29-49c0-8e5e-e4e1161743c1",
   "metadata": {},
   "outputs": [
    {
     "data": {
      "image/png": "[encoded data removed]",
      "text/plain": [
       "<Figure size 432x288 with 1 Axes>"
      ]
     },
     "metadata": {
      "needs_background": "light"
     },
     "output_type": "display_data"
    }
   ],
   "source": [
    "sns.lineplot(x=\"date\",y=\"close\",data = eth)\n",
    "plt.xticks(rotation=25)\n",
    "plt.savefig('eth.png')\n",
    "#We are plotting CLOSE price. Which is the price of the cryptocurency at the end of the day"
   ]
  },
  {
   "cell_type": "code",
   "execution_count": 46,
   "id": "faf42eb1-b744-4877-a74b-8fce704a9a16",
   "metadata": {},
   "outputs": [
    {
     "data": {
      "image/png": "[encoded data removed]",
      "text/plain": [
       "<Figure size 432x288 with 1 Axes>"
      ]
     },
     "metadata": {
      "needs_background": "light"
     },
     "output_type": "display_data"
    }
   ],
   "source": [
    "sns.lineplot(x=\"date\",y=\"close\",data = dog)\n",
    "plt.xticks(rotation=25)\n",
    "plt.savefig('dog.png')\n",
    "#We are plotting CLOSE price. Which is the price of the cryptocurency at the end of the day"
   ]
  },
  {
   "cell_type": "code",
   "execution_count": null,
   "id": "32fcdb90-be14-46a9-8961-d6c580d735ea",
   "metadata": {},
   "outputs": [],
   "source": []
  }
 ],
 "metadata": {
  "environment": {
   "kernel": "python3",
   "name": "common-cpu.m91",
   "type": "gcloud",
   "uri": "gcr.io/deeplearning-platform-release/base-cpu:m91"
  },
  "kernelspec": {
   "display_name": "Python 3",
   "language": "python",
   "name": "python3"
  },
  "language_info": {
   "codemirror_mode": {
    "name": "ipython",
    "version": 3
   },
   "file_extension": ".py",
   "mimetype": "text/x-python",
   "name": "python",
   "nbconvert_exporter": "python",
   "pygments_lexer": "ipython3",
   "version": "3.7.12"
  }
 },
 "nbformat": 4,
 "nbformat_minor": 5
}
