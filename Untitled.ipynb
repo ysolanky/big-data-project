{
 "cells": [
  {
   "cell_type": "code",
   "execution_count": 1,
   "id": "d35b8465-6fd2-4d06-88bc-987f89b70591",
   "metadata": {},
   "outputs": [],
   "source": [
    "import numpy as np\n",
    "import pandas as pd\n",
    "import matplotlib.pyplot as plt\n",
    "import sklearn as skl\n",
    "import seaborn as sns\n",
    "from datetime import datetime,date"
   ]
  },
  {
   "cell_type": "code",
   "execution_count": null,
   "id": "6aa55c0f-7777-471b-bd36-9e2d56257f77",
   "metadata": {},
   "outputs": [],
   "source": [
    "# Import the data files. We are going to be analysing and predicting 3 separate cryptocurrencies. \n",
    "btc = pd.read_csv(\"btc.csv\") #Bitcoin\n",
    "eth = pd.read_csv(\"eth.csv\") #Ehtereum\n",
    "ltc = pd.read_csv(\"ltc.csv\") #Litecoin"
   ]
  }
 ],
 "metadata": {
  "environment": {
   "kernel": "python3",
   "name": "common-cpu.m91",
   "type": "gcloud",
   "uri": "gcr.io/deeplearning-platform-release/base-cpu:m91"
  },
  "kernelspec": {
   "display_name": "Python 3",
   "language": "python",
   "name": "python3"
  },
  "language_info": {
   "codemirror_mode": {
    "name": "ipython",
    "version": 3
   },
   "file_extension": ".py",
   "mimetype": "text/x-python",
   "name": "python",
   "nbconvert_exporter": "python",
   "pygments_lexer": "ipython3",
   "version": "3.7.12"
  }
 },
 "nbformat": 4,
 "nbformat_minor": 5
}
