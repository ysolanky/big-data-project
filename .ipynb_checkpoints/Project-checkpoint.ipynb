{
 "cells": [
  {
   "cell_type": "markdown",
   "id": "5e83e879-9fc4-48a1-a447-6d6161ee2e96",
   "metadata": {},
   "source": [
    "# Course project - Big Data Concepts\n",
    "## Yash Pratap Solanky"
   ]
  },
  {
   "cell_type": "markdown",
   "id": "25f75698-a9a9-46ac-b6dc-ab95a623a818",
   "metadata": {},
   "source": [
    "## Introduction \n",
    "### For the course project I have analysed 4 crptocurrencises and tried to predict the price of bitcoin. The CSV time series data is uploaded to github. The github repository is then cloned into a jupyter notebook in AI platform of Google cloud platform. The graph of the time series and the graph of the prediction is then saved as a png and then uplaoded onto a separately created bucket on google cloud platform"
   ]
  },
  {
   "cell_type": "markdown",
   "id": "c8fd7782-4d6f-4e58-b4b7-7fc41f4df4b8",
   "metadata": {},
   "source": [
    "## Background \n",
    "### I tried to predict cryptocurrencies because the variable nature and the fluction in the prices of cryptocurrencies since after the pandemic has been of interest throughout the world. The use of virtual machines allows us to compute, store, analyse and predict this project completely on google cloud platform. Even though it was completely possible to complete this project on a local machine, the use of virtual machine makes it very easy for anyone to replicate this project for any time series data. It can be for stocks, crypto, etc. "
   ]
  },
  {
   "cell_type": "markdown",
   "id": "0713f93a-1f54-409c-a9f7-0ded03677641",
   "metadata": {},
   "source": [
    "## Methodology \n",
    "### Step 1 - Downloading the time series data of various cryptocurrencies from https://www.cryptodatadownload.com/. \n",
    "### Step 2 - Creating a repositorty and uploading the downloaded data on the repository\n",
    "### Step 3 - Creating a Jupyer notebook on AI platform on Google cloud platform. Then cloning the repository to this Jupyter enviroment\n",
    "### Step 4 - Performing exploratory data analysis on the data, performing data engineering( cleaning data, transforming data) and then using the final dataset to make prediction using ARIMA algorithm\n",
    "### Step 5 - Creating a google cloud platform bucket\n",
    "### Step 6 - Saving the graphs from the project to the bucket. \n",
    "### Step 7 - Making the graphs public from the bucket"
   ]
  },
  {
   "cell_type": "code",
   "execution_count": null,
   "id": "d9ebfd5e-9d41-48f3-9949-28f155fc4a07",
   "metadata": {},
   "outputs": [],
   "source": [
    "import numpy as np\n",
    "import pandas as pd\n",
    "import matplotlib.pyplot as plt\n",
    "import sklearn as skl\n",
    "import seaborn as sns\n",
    "from datetime import datetime,date"
   ]
  },
  {
   "cell_type": "code",
   "execution_count": 17,
   "id": "6aa55c0f-7777-471b-bd36-9e2d56257f77",
   "metadata": {},
   "outputs": [],
   "source": [
    "# Import the data files. We are going to be analysing and predicting 3 separate cryptocurrencies. \n",
    "btc = pd.read_csv(\"Gemini_BTCUSD_d.csv\",skiprows=1) #Bitcoin\n",
    "eth = pd.read_csv(\"Gemini_ETHUSD_d.csv\",skiprows=1) #Ehtereum\n",
    "ltc = pd.read_csv(\"Gemini_LTCUSD_d.csv\",skiprows=1) #Litecoin\n",
    "dog = pd.read_csv(\"Gemini_DOGEUSD_d.csv\",skiprows=1) #Dogecoin"
   ]
  },
  {
   "cell_type": "code",
   "execution_count": 18,
   "id": "7ffc5e6c-7099-4edc-b8e8-f6b3ee9a5835",
   "metadata": {},
   "outputs": [
    {
     "data": {
      "text/html": [
       "<div>\n",
       "<style scoped>\n",
       "    .dataframe tbody tr th:only-of-type {\n",
       "        vertical-align: middle;\n",
       "    }\n",
       "\n",
       "    .dataframe tbody tr th {\n",
       "        vertical-align: top;\n",
       "    }\n",
       "\n",
       "    .dataframe thead th {\n",
       "        text-align: right;\n",
       "    }\n",
       "</style>\n",
       "<table border=\"1\" class=\"dataframe\">\n",
       "  <thead>\n",
       "    <tr style=\"text-align: right;\">\n",
       "      <th></th>\n",
       "      <th>unix</th>\n",
       "      <th>date</th>\n",
       "      <th>symbol</th>\n",
       "      <th>open</th>\n",
       "      <th>high</th>\n",
       "      <th>low</th>\n",
       "      <th>close</th>\n",
       "      <th>Volume BTC</th>\n",
       "      <th>Volume USD</th>\n",
       "    </tr>\n",
       "  </thead>\n",
       "  <tbody>\n",
       "    <tr>\n",
       "      <th>0</th>\n",
       "      <td>1651032000000</td>\n",
       "      <td>2022-04-27 04:00:00</td>\n",
       "      <td>BTC/USD</td>\n",
       "      <td>38344.79</td>\n",
       "      <td>39463.17</td>\n",
       "      <td>38316.92</td>\n",
       "      <td>39179.01</td>\n",
       "      <td>646.587599</td>\n",
       "      <td>2.533266e+07</td>\n",
       "    </tr>\n",
       "    <tr>\n",
       "      <th>1</th>\n",
       "      <td>1650945600000</td>\n",
       "      <td>2022-04-26 04:00:00</td>\n",
       "      <td>BTC/USD</td>\n",
       "      <td>40541.18</td>\n",
       "      <td>40783.69</td>\n",
       "      <td>37697.42</td>\n",
       "      <td>38344.79</td>\n",
       "      <td>1297.579024</td>\n",
       "      <td>4.975540e+07</td>\n",
       "    </tr>\n",
       "    <tr>\n",
       "      <th>2</th>\n",
       "      <td>1650859200000</td>\n",
       "      <td>2022-04-25 04:00:00</td>\n",
       "      <td>BTC/USD</td>\n",
       "      <td>39260.92</td>\n",
       "      <td>40765.94</td>\n",
       "      <td>38221.87</td>\n",
       "      <td>40541.18</td>\n",
       "      <td>1370.403628</td>\n",
       "      <td>5.555778e+07</td>\n",
       "    </tr>\n",
       "    <tr>\n",
       "      <th>3</th>\n",
       "      <td>1650772800000</td>\n",
       "      <td>2022-04-24 04:00:00</td>\n",
       "      <td>BTC/USD</td>\n",
       "      <td>39780.94</td>\n",
       "      <td>39933.07</td>\n",
       "      <td>38695.95</td>\n",
       "      <td>39260.92</td>\n",
       "      <td>515.669742</td>\n",
       "      <td>2.024567e+07</td>\n",
       "    </tr>\n",
       "    <tr>\n",
       "      <th>4</th>\n",
       "      <td>1650686400000</td>\n",
       "      <td>2022-04-23 04:00:00</td>\n",
       "      <td>BTC/USD</td>\n",
       "      <td>39482.00</td>\n",
       "      <td>39988.99</td>\n",
       "      <td>39299.82</td>\n",
       "      <td>39780.94</td>\n",
       "      <td>402.215227</td>\n",
       "      <td>1.600050e+07</td>\n",
       "    </tr>\n",
       "  </tbody>\n",
       "</table>\n",
       "</div>"
      ],
      "text/plain": [
       "            unix                 date   symbol      open      high       low  \\\n",
       "0  1651032000000  2022-04-27 04:00:00  BTC/USD  38344.79  39463.17  38316.92   \n",
       "1  1650945600000  2022-04-26 04:00:00  BTC/USD  40541.18  40783.69  37697.42   \n",
       "2  1650859200000  2022-04-25 04:00:00  BTC/USD  39260.92  40765.94  38221.87   \n",
       "3  1650772800000  2022-04-24 04:00:00  BTC/USD  39780.94  39933.07  38695.95   \n",
       "4  1650686400000  2022-04-23 04:00:00  BTC/USD  39482.00  39988.99  39299.82   \n",
       "\n",
       "      close   Volume BTC    Volume USD  \n",
       "0  39179.01   646.587599  2.533266e+07  \n",
       "1  38344.79  1297.579024  4.975540e+07  \n",
       "2  40541.18  1370.403628  5.555778e+07  \n",
       "3  39260.92   515.669742  2.024567e+07  \n",
       "4  39780.94   402.215227  1.600050e+07  "
      ]
     },
     "execution_count": 18,
     "metadata": {},
     "output_type": "execute_result"
    }
   ],
   "source": [
    "btc.head()"
   ]
  },
  {
   "cell_type": "code",
   "execution_count": 19,
   "id": "48d3d4cf-7e20-444d-8ac3-c1f3f7df36b7",
   "metadata": {},
   "outputs": [],
   "source": [
    "for i in [btc, eth, ltc, dog]:\n",
    "    i.drop(columns = [\"unix\",\"symbol\"],inplace = True)"
   ]
  },
  {
   "cell_type": "code",
   "execution_count": 20,
   "id": "567c747c-c02e-401c-b0f4-58ab4c06ca1f",
   "metadata": {},
   "outputs": [
    {
     "data": {
      "text/html": [
       "<div>\n",
       "<style scoped>\n",
       "    .dataframe tbody tr th:only-of-type {\n",
       "        vertical-align: middle;\n",
       "    }\n",
       "\n",
       "    .dataframe tbody tr th {\n",
       "        vertical-align: top;\n",
       "    }\n",
       "\n",
       "    .dataframe thead th {\n",
       "        text-align: right;\n",
       "    }\n",
       "</style>\n",
       "<table border=\"1\" class=\"dataframe\">\n",
       "  <thead>\n",
       "    <tr style=\"text-align: right;\">\n",
       "      <th></th>\n",
       "      <th>date</th>\n",
       "      <th>open</th>\n",
       "      <th>high</th>\n",
       "      <th>low</th>\n",
       "      <th>close</th>\n",
       "      <th>Volume BTC</th>\n",
       "      <th>Volume USD</th>\n",
       "    </tr>\n",
       "  </thead>\n",
       "  <tbody>\n",
       "    <tr>\n",
       "      <th>0</th>\n",
       "      <td>2022-04-27 04:00:00</td>\n",
       "      <td>38344.79</td>\n",
       "      <td>39463.17</td>\n",
       "      <td>38316.92</td>\n",
       "      <td>39179.01</td>\n",
       "      <td>646.587599</td>\n",
       "      <td>2.533266e+07</td>\n",
       "    </tr>\n",
       "    <tr>\n",
       "      <th>1</th>\n",
       "      <td>2022-04-26 04:00:00</td>\n",
       "      <td>40541.18</td>\n",
       "      <td>40783.69</td>\n",
       "      <td>37697.42</td>\n",
       "      <td>38344.79</td>\n",
       "      <td>1297.579024</td>\n",
       "      <td>4.975540e+07</td>\n",
       "    </tr>\n",
       "    <tr>\n",
       "      <th>2</th>\n",
       "      <td>2022-04-25 04:00:00</td>\n",
       "      <td>39260.92</td>\n",
       "      <td>40765.94</td>\n",
       "      <td>38221.87</td>\n",
       "      <td>40541.18</td>\n",
       "      <td>1370.403628</td>\n",
       "      <td>5.555778e+07</td>\n",
       "    </tr>\n",
       "    <tr>\n",
       "      <th>3</th>\n",
       "      <td>2022-04-24 04:00:00</td>\n",
       "      <td>39780.94</td>\n",
       "      <td>39933.07</td>\n",
       "      <td>38695.95</td>\n",
       "      <td>39260.92</td>\n",
       "      <td>515.669742</td>\n",
       "      <td>2.024567e+07</td>\n",
       "    </tr>\n",
       "    <tr>\n",
       "      <th>4</th>\n",
       "      <td>2022-04-23 04:00:00</td>\n",
       "      <td>39482.00</td>\n",
       "      <td>39988.99</td>\n",
       "      <td>39299.82</td>\n",
       "      <td>39780.94</td>\n",
       "      <td>402.215227</td>\n",
       "      <td>1.600050e+07</td>\n",
       "    </tr>\n",
       "  </tbody>\n",
       "</table>\n",
       "</div>"
      ],
      "text/plain": [
       "                  date      open      high       low     close   Volume BTC  \\\n",
       "0  2022-04-27 04:00:00  38344.79  39463.17  38316.92  39179.01   646.587599   \n",
       "1  2022-04-26 04:00:00  40541.18  40783.69  37697.42  38344.79  1297.579024   \n",
       "2  2022-04-25 04:00:00  39260.92  40765.94  38221.87  40541.18  1370.403628   \n",
       "3  2022-04-24 04:00:00  39780.94  39933.07  38695.95  39260.92   515.669742   \n",
       "4  2022-04-23 04:00:00  39482.00  39988.99  39299.82  39780.94   402.215227   \n",
       "\n",
       "     Volume USD  \n",
       "0  2.533266e+07  \n",
       "1  4.975540e+07  \n",
       "2  5.555778e+07  \n",
       "3  2.024567e+07  \n",
       "4  1.600050e+07  "
      ]
     },
     "execution_count": 20,
     "metadata": {},
     "output_type": "execute_result"
    }
   ],
   "source": [
    "btc.head()"
   ]
  },
  {
   "cell_type": "code",
   "execution_count": 21,
   "id": "100c8504-4d64-44fa-825f-75e7fee97fcb",
   "metadata": {},
   "outputs": [
    {
     "data": {
      "text/html": [
       "<div>\n",
       "<style scoped>\n",
       "    .dataframe tbody tr th:only-of-type {\n",
       "        vertical-align: middle;\n",
       "    }\n",
       "\n",
       "    .dataframe tbody tr th {\n",
       "        vertical-align: top;\n",
       "    }\n",
       "\n",
       "    .dataframe thead th {\n",
       "        text-align: right;\n",
       "    }\n",
       "</style>\n",
       "<table border=\"1\" class=\"dataframe\">\n",
       "  <thead>\n",
       "    <tr style=\"text-align: right;\">\n",
       "      <th></th>\n",
       "      <th>open</th>\n",
       "      <th>high</th>\n",
       "      <th>low</th>\n",
       "      <th>close</th>\n",
       "      <th>Volume BTC</th>\n",
       "      <th>Volume USD</th>\n",
       "    </tr>\n",
       "  </thead>\n",
       "  <tbody>\n",
       "    <tr>\n",
       "      <th>count</th>\n",
       "      <td>2394.000000</td>\n",
       "      <td>2394.000000</td>\n",
       "      <td>2394.000000</td>\n",
       "      <td>2394.000000</td>\n",
       "      <td>2394.000000</td>\n",
       "      <td>2.394000e+03</td>\n",
       "    </tr>\n",
       "    <tr>\n",
       "      <th>mean</th>\n",
       "      <td>13901.230188</td>\n",
       "      <td>14317.782135</td>\n",
       "      <td>13458.189294</td>\n",
       "      <td>13917.536462</td>\n",
       "      <td>3209.448654</td>\n",
       "      <td>3.477780e+07</td>\n",
       "    </tr>\n",
       "    <tr>\n",
       "      <th>std</th>\n",
       "      <td>17101.913662</td>\n",
       "      <td>17597.578163</td>\n",
       "      <td>16552.239402</td>\n",
       "      <td>17107.359712</td>\n",
       "      <td>3885.995506</td>\n",
       "      <td>4.990896e+07</td>\n",
       "    </tr>\n",
       "    <tr>\n",
       "      <th>min</th>\n",
       "      <td>0.000000</td>\n",
       "      <td>245.000000</td>\n",
       "      <td>0.000000</td>\n",
       "      <td>243.600000</td>\n",
       "      <td>0.000000</td>\n",
       "      <td>0.000000e+00</td>\n",
       "    </tr>\n",
       "    <tr>\n",
       "      <th>25%</th>\n",
       "      <td>2187.042500</td>\n",
       "      <td>2324.060000</td>\n",
       "      <td>2065.305000</td>\n",
       "      <td>2210.945000</td>\n",
       "      <td>1042.351601</td>\n",
       "      <td>3.813598e+06</td>\n",
       "    </tr>\n",
       "    <tr>\n",
       "      <th>50%</th>\n",
       "      <td>7434.715000</td>\n",
       "      <td>7653.760000</td>\n",
       "      <td>7256.310000</td>\n",
       "      <td>7434.715000</td>\n",
       "      <td>1918.755188</td>\n",
       "      <td>1.705102e+07</td>\n",
       "    </tr>\n",
       "    <tr>\n",
       "      <th>75%</th>\n",
       "      <td>12302.035000</td>\n",
       "      <td>13027.722500</td>\n",
       "      <td>11695.102500</td>\n",
       "      <td>12450.150000</td>\n",
       "      <td>3673.998996</td>\n",
       "      <td>4.552247e+07</td>\n",
       "    </tr>\n",
       "    <tr>\n",
       "      <th>max</th>\n",
       "      <td>68525.750000</td>\n",
       "      <td>69000.000000</td>\n",
       "      <td>66262.480000</td>\n",
       "      <td>68525.750000</td>\n",
       "      <td>54142.433523</td>\n",
       "      <td>6.914380e+08</td>\n",
       "    </tr>\n",
       "  </tbody>\n",
       "</table>\n",
       "</div>"
      ],
      "text/plain": [
       "               open          high           low         close    Volume BTC  \\\n",
       "count   2394.000000   2394.000000   2394.000000   2394.000000   2394.000000   \n",
       "mean   13901.230188  14317.782135  13458.189294  13917.536462   3209.448654   \n",
       "std    17101.913662  17597.578163  16552.239402  17107.359712   3885.995506   \n",
       "min        0.000000    245.000000      0.000000    243.600000      0.000000   \n",
       "25%     2187.042500   2324.060000   2065.305000   2210.945000   1042.351601   \n",
       "50%     7434.715000   7653.760000   7256.310000   7434.715000   1918.755188   \n",
       "75%    12302.035000  13027.722500  11695.102500  12450.150000   3673.998996   \n",
       "max    68525.750000  69000.000000  66262.480000  68525.750000  54142.433523   \n",
       "\n",
       "         Volume USD  \n",
       "count  2.394000e+03  \n",
       "mean   3.477780e+07  \n",
       "std    4.990896e+07  \n",
       "min    0.000000e+00  \n",
       "25%    3.813598e+06  \n",
       "50%    1.705102e+07  \n",
       "75%    4.552247e+07  \n",
       "max    6.914380e+08  "
      ]
     },
     "execution_count": 21,
     "metadata": {},
     "output_type": "execute_result"
    }
   ],
   "source": [
    "btc.describe()"
   ]
  },
  {
   "cell_type": "code",
   "execution_count": 22,
   "id": "132166c8-9ec1-4e23-a9cf-b91dea988d3a",
   "metadata": {},
   "outputs": [
    {
     "data": {
      "text/plain": [
       "0       2022-04-27 04:00:00\n",
       "1       2022-04-26 04:00:00\n",
       "2       2022-04-25 04:00:00\n",
       "3       2022-04-24 04:00:00\n",
       "4       2022-04-23 04:00:00\n",
       "               ...         \n",
       "2389    2015-10-12 04:00:00\n",
       "2390    2015-10-11 04:00:00\n",
       "2391    2015-10-10 04:00:00\n",
       "2392    2015-10-09 04:00:00\n",
       "2393    2015-10-08 04:00:00\n",
       "Name: date, Length: 2394, dtype: object"
      ]
     },
     "execution_count": 22,
     "metadata": {},
     "output_type": "execute_result"
    }
   ],
   "source": [
    "btc[\"date\"]"
   ]
  },
  {
   "cell_type": "code",
   "execution_count": 23,
   "id": "89aadbb7-7e90-45ff-b86e-ba4a517c17c2",
   "metadata": {},
   "outputs": [],
   "source": [
    "for i in [btc, eth, ltc,dog]:\n",
    "    i['date'] = pd.to_datetime(i['date'])"
   ]
  },
  {
   "cell_type": "code",
   "execution_count": 24,
   "id": "2a56d9b1-a21d-47d6-8a94-689c4cf1dfa7",
   "metadata": {},
   "outputs": [
    {
     "data": {
      "text/plain": [
       "0      2022-04-27 04:00:00\n",
       "1      2022-04-26 04:00:00\n",
       "2      2022-04-25 04:00:00\n",
       "3      2022-04-24 04:00:00\n",
       "4      2022-04-23 04:00:00\n",
       "               ...        \n",
       "2389   2015-10-12 04:00:00\n",
       "2390   2015-10-11 04:00:00\n",
       "2391   2015-10-10 04:00:00\n",
       "2392   2015-10-09 04:00:00\n",
       "2393   2015-10-08 04:00:00\n",
       "Name: date, Length: 2394, dtype: datetime64[ns]"
      ]
     },
     "execution_count": 24,
     "metadata": {},
     "output_type": "execute_result"
    }
   ],
   "source": [
    "btc[\"date\"]"
   ]
  },
  {
   "cell_type": "code",
   "execution_count": 25,
   "id": "74c84fb6-46ba-4ad2-b89c-bd3a1a8c6cd1",
   "metadata": {},
   "outputs": [
    {
     "data": {
      "image/png": "[encoded data removed]",
      "text/plain": [
       "<Figure size 432x288 with 1 Axes>"
      ]
     },
     "metadata": {
      "needs_background": "light"
     },
     "output_type": "display_data"
    }
   ],
   "source": [
    "sns.lineplot(x=\"date\",y=\"close\",data = btc)\n",
    "plt.xticks(rotation=25)\n",
    "plt.savefig('btc.png')\n",
    "#We are plotting CLOSE price. Which is the price of the cryptocurency at the end of the day"
   ]
  },
  {
   "cell_type": "code",
   "execution_count": 26,
   "id": "dbe97176-515e-4f68-891e-508c82157ed0",
   "metadata": {},
   "outputs": [
    {
     "data": {
      "image/png": "[encoded data removed]",
      "text/plain": [
       "<Figure size 432x288 with 1 Axes>"
      ]
     },
     "metadata": {
      "needs_background": "light"
     },
     "output_type": "display_data"
    }
   ],
   "source": [
    "sns.lineplot(x=\"date\",y=\"close\",data = ltc)\n",
    "plt.xticks(rotation=25)\n",
    "plt.savefig('ltc.png')\n",
    "#We are plotting CLOSE price. Which is the price of the cryptocurency at the end of the day"
   ]
  },
  {
   "cell_type": "code",
   "execution_count": 27,
   "id": "a69c4dcb-3b29-49c0-8e5e-e4e1161743c1",
   "metadata": {},
   "outputs": [
    {
     "data": {
      "image/png": "[encoded data removed]",
      "text/plain": [
       "<Figure size 432x288 with 1 Axes>"
      ]
     },
     "metadata": {
      "needs_background": "light"
     },
     "output_type": "display_data"
    }
   ],
   "source": [
    "sns.lineplot(x=\"date\",y=\"close\",data = eth)\n",
    "plt.xticks(rotation=25)\n",
    "plt.savefig('eth.png')\n",
    "#We are plotting CLOSE price. Which is the price of the cryptocurency at the end of the day"
   ]
  },
  {
   "cell_type": "code",
   "execution_count": 28,
   "id": "faf42eb1-b744-4877-a74b-8fce704a9a16",
   "metadata": {},
   "outputs": [
    {
     "data": {
      "image/png": "[encoded data removed]",
      "text/plain": [
       "<Figure size 432x288 with 1 Axes>"
      ]
     },
     "metadata": {
      "needs_background": "light"
     },
     "output_type": "display_data"
    }
   ],
   "source": [
    "sns.lineplot(x=\"date\",y=\"close\",data = dog)\n",
    "plt.xticks(rotation=25)\n",
    "plt.savefig('dog.png')\n",
    "#We are plotting CLOSE price. Which is the price of the cryptocurency at the end of the day"
   ]
  },
  {
   "cell_type": "code",
   "execution_count": null,
   "id": "0c522b6c-cf0b-4f7a-ad3d-32b5e86fb884",
   "metadata": {},
   "outputs": [],
   "source": []
  },
  {
   "cell_type": "code",
   "execution_count": 29,
   "id": "3d19ee76-7fbe-40cb-aac2-a14fe44dc7ad",
   "metadata": {},
   "outputs": [],
   "source": [
    "var = ['open', 'high', 'low', 'close']\n",
    "t = ['date']"
   ]
  },
  {
   "cell_type": "code",
   "execution_count": 32,
   "id": "baf0a96d-0859-4aca-9564-76d968b0278c",
   "metadata": {},
   "outputs": [
    {
     "data": {
      "text/plain": [
       "(array([16436., 16801., 17167., 17532., 17897., 18262., 18628., 18993.]),\n",
       " [Text(0, 0, ''),\n",
       "  Text(0, 0, ''),\n",
       "  Text(0, 0, ''),\n",
       "  Text(0, 0, ''),\n",
       "  Text(0, 0, ''),\n",
       "  Text(0, 0, ''),\n",
       "  Text(0, 0, ''),\n",
       "  Text(0, 0, '')])"
      ]
     },
     "execution_count": 32,
     "metadata": {},
     "output_type": "execute_result"
    },
    {
     "data": {
      "image/png": "[encoded data removed]",
      "text/plain": [
       "<Figure size 432x288 with 4 Axes>"
      ]
     },
     "metadata": {
      "needs_background": "light"
     },
     "output_type": "display_data"
    }
   ],
   "source": [
    "fig,ax = plt.subplots(4, sharex=True)\n",
    "\n",
    "for i in range(4):    \n",
    "    ax[i].plot(btc[t],btc[var[i]],color='blue')\n",
    "plt.xticks(rotation=25)"
   ]
  },
  {
   "cell_type": "code",
   "execution_count": 33,
   "id": "a65b395d-63f1-488b-b5de-610715521f60",
   "metadata": {},
   "outputs": [
    {
     "data": {
      "text/plain": [
       "(array([17897., 18078., 18262., 18444., 18628., 18809., 18993.]),\n",
       " [Text(0, 0, ''),\n",
       "  Text(0, 0, ''),\n",
       "  Text(0, 0, ''),\n",
       "  Text(0, 0, ''),\n",
       "  Text(0, 0, ''),\n",
       "  Text(0, 0, ''),\n",
       "  Text(0, 0, '')])"
      ]
     },
     "execution_count": 33,
     "metadata": {},
     "output_type": "execute_result"
    },
    {
     "data": {
      "image/png": "[encoded data removed]",
      "text/plain": [
       "<Figure size 432x288 with 4 Axes>"
      ]
     },
     "metadata": {
      "needs_background": "light"
     },
     "output_type": "display_data"
    }
   ],
   "source": [
    "fig,ax = plt.subplots(4, sharex=True)\n",
    "\n",
    "for i in range(4):    \n",
    "    ax[i].plot(ltc[t],ltc[var[i]],color='blue')\n",
    "plt.xticks(rotation=25)"
   ]
  },
  {
   "cell_type": "code",
   "execution_count": 34,
   "id": "2db69632-e700-46fb-bf11-a0324159dccb",
   "metadata": {},
   "outputs": [
    {
     "data": {
      "text/plain": [
       "(array([16801., 17167., 17532., 17897., 18262., 18628., 18993.]),\n",
       " [Text(0, 0, ''),\n",
       "  Text(0, 0, ''),\n",
       "  Text(0, 0, ''),\n",
       "  Text(0, 0, ''),\n",
       "  Text(0, 0, ''),\n",
       "  Text(0, 0, ''),\n",
       "  Text(0, 0, '')])"
      ]
     },
     "execution_count": 34,
     "metadata": {},
     "output_type": "execute_result"
    },
    {
     "data": {
      "image/png": "[encoded data removed]",
      "text/plain": [
       "<Figure size 432x288 with 4 Axes>"
      ]
     },
     "metadata": {
      "needs_background": "light"
     },
     "output_type": "display_data"
    }
   ],
   "source": [
    "fig,ax = plt.subplots(4, sharex=True)\n",
    "\n",
    "for i in range(4):    \n",
    "    ax[i].plot(eth[t],eth[var[i]],color='blue')\n",
    "plt.xticks(rotation=25)"
   ]
  },
  {
   "cell_type": "code",
   "execution_count": 35,
   "id": "4585cbd8-c363-4c17-b9d7-90a6c26c315b",
   "metadata": {},
   "outputs": [
    {
     "data": {
      "text/plain": [
       "(array([18748., 18809., 18871., 18932., 18993., 19052., 19113.]),\n",
       " [Text(0, 0, ''),\n",
       "  Text(0, 0, ''),\n",
       "  Text(0, 0, ''),\n",
       "  Text(0, 0, ''),\n",
       "  Text(0, 0, ''),\n",
       "  Text(0, 0, ''),\n",
       "  Text(0, 0, '')])"
      ]
     },
     "execution_count": 35,
     "metadata": {},
     "output_type": "execute_result"
    },
    {
     "data": {
      "image/png": "[encoded data removed]",
      "text/plain": [
       "<Figure size 432x288 with 4 Axes>"
      ]
     },
     "metadata": {
      "needs_background": "light"
     },
     "output_type": "display_data"
    }
   ],
   "source": [
    "fig,ax = plt.subplots(4, sharex=True)\n",
    "\n",
    "for i in range(4):    \n",
    "    ax[i].plot(dog[t],dog[var[i]],color='blue')\n",
    "plt.xticks(rotation=25)"
   ]
  },
  {
   "cell_type": "code",
   "execution_count": 36,
   "id": "cc963ee9-f980-4377-98f8-6dbc4536a6d0",
   "metadata": {},
   "outputs": [],
   "source": [
    "from statsmodels.tsa.arima.model import ARIMA "
   ]
  },
  {
   "cell_type": "code",
   "execution_count": 49,
   "id": "ccb5d6a8-4822-4131-a735-93524dfcfada",
   "metadata": {},
   "outputs": [],
   "source": [
    "from math import sqrt\n",
    "from sklearn.metrics import mean_squared_error\n",
    "from matplotlib import pyplot\n",
    "from statsmodels.tsa.ar_model import AutoReg as AR"
   ]
  },
  {
   "cell_type": "code",
   "execution_count": 39,
   "id": "2e398d12-5576-4a9a-a788-b9206bdda6e7",
   "metadata": {},
   "outputs": [
    {
     "data": {
      "text/html": [
       "<div>\n",
       "<style scoped>\n",
       "    .dataframe tbody tr th:only-of-type {\n",
       "        vertical-align: middle;\n",
       "    }\n",
       "\n",
       "    .dataframe tbody tr th {\n",
       "        vertical-align: top;\n",
       "    }\n",
       "\n",
       "    .dataframe thead th {\n",
       "        text-align: right;\n",
       "    }\n",
       "</style>\n",
       "<table border=\"1\" class=\"dataframe\">\n",
       "  <thead>\n",
       "    <tr style=\"text-align: right;\">\n",
       "      <th></th>\n",
       "      <th>date</th>\n",
       "      <th>open</th>\n",
       "      <th>high</th>\n",
       "      <th>low</th>\n",
       "      <th>close</th>\n",
       "      <th>Volume BTC</th>\n",
       "      <th>Volume USD</th>\n",
       "    </tr>\n",
       "  </thead>\n",
       "  <tbody>\n",
       "    <tr>\n",
       "      <th>0</th>\n",
       "      <td>2022-04-27 04:00:00</td>\n",
       "      <td>38344.79</td>\n",
       "      <td>39463.17</td>\n",
       "      <td>38316.92</td>\n",
       "      <td>39179.01</td>\n",
       "      <td>646.587599</td>\n",
       "      <td>2.533266e+07</td>\n",
       "    </tr>\n",
       "    <tr>\n",
       "      <th>1</th>\n",
       "      <td>2022-04-26 04:00:00</td>\n",
       "      <td>40541.18</td>\n",
       "      <td>40783.69</td>\n",
       "      <td>37697.42</td>\n",
       "      <td>38344.79</td>\n",
       "      <td>1297.579024</td>\n",
       "      <td>4.975540e+07</td>\n",
       "    </tr>\n",
       "    <tr>\n",
       "      <th>2</th>\n",
       "      <td>2022-04-25 04:00:00</td>\n",
       "      <td>39260.92</td>\n",
       "      <td>40765.94</td>\n",
       "      <td>38221.87</td>\n",
       "      <td>40541.18</td>\n",
       "      <td>1370.403628</td>\n",
       "      <td>5.555778e+07</td>\n",
       "    </tr>\n",
       "    <tr>\n",
       "      <th>3</th>\n",
       "      <td>2022-04-24 04:00:00</td>\n",
       "      <td>39780.94</td>\n",
       "      <td>39933.07</td>\n",
       "      <td>38695.95</td>\n",
       "      <td>39260.92</td>\n",
       "      <td>515.669742</td>\n",
       "      <td>2.024567e+07</td>\n",
       "    </tr>\n",
       "    <tr>\n",
       "      <th>4</th>\n",
       "      <td>2022-04-23 04:00:00</td>\n",
       "      <td>39482.00</td>\n",
       "      <td>39988.99</td>\n",
       "      <td>39299.82</td>\n",
       "      <td>39780.94</td>\n",
       "      <td>402.215227</td>\n",
       "      <td>1.600050e+07</td>\n",
       "    </tr>\n",
       "    <tr>\n",
       "      <th>...</th>\n",
       "      <td>...</td>\n",
       "      <td>...</td>\n",
       "      <td>...</td>\n",
       "      <td>...</td>\n",
       "      <td>...</td>\n",
       "      <td>...</td>\n",
       "      <td>...</td>\n",
       "    </tr>\n",
       "    <tr>\n",
       "      <th>2389</th>\n",
       "      <td>2015-10-12 04:00:00</td>\n",
       "      <td>248.98</td>\n",
       "      <td>248.98</td>\n",
       "      <td>245.75</td>\n",
       "      <td>245.75</td>\n",
       "      <td>71.047743</td>\n",
       "      <td>1.745998e+04</td>\n",
       "    </tr>\n",
       "    <tr>\n",
       "      <th>2390</th>\n",
       "      <td>2015-10-11 04:00:00</td>\n",
       "      <td>246.30</td>\n",
       "      <td>249.50</td>\n",
       "      <td>245.96</td>\n",
       "      <td>248.98</td>\n",
       "      <td>22.747091</td>\n",
       "      <td>5.663571e+03</td>\n",
       "    </tr>\n",
       "    <tr>\n",
       "      <th>2391</th>\n",
       "      <td>2015-10-10 04:00:00</td>\n",
       "      <td>245.51</td>\n",
       "      <td>246.30</td>\n",
       "      <td>244.60</td>\n",
       "      <td>246.30</td>\n",
       "      <td>30.870549</td>\n",
       "      <td>7.603416e+03</td>\n",
       "    </tr>\n",
       "    <tr>\n",
       "      <th>2392</th>\n",
       "      <td>2015-10-09 04:00:00</td>\n",
       "      <td>243.60</td>\n",
       "      <td>249.97</td>\n",
       "      <td>243.60</td>\n",
       "      <td>245.51</td>\n",
       "      <td>61.587068</td>\n",
       "      <td>1.512024e+04</td>\n",
       "    </tr>\n",
       "    <tr>\n",
       "      <th>2393</th>\n",
       "      <td>2015-10-08 04:00:00</td>\n",
       "      <td>0.00</td>\n",
       "      <td>245.00</td>\n",
       "      <td>0.00</td>\n",
       "      <td>243.60</td>\n",
       "      <td>34.754703</td>\n",
       "      <td>8.466246e+03</td>\n",
       "    </tr>\n",
       "  </tbody>\n",
       "</table>\n",
       "<p>2394 rows × 7 columns</p>\n",
       "</div>"
      ],
      "text/plain": [
       "                    date      open      high       low     close   Volume BTC  \\\n",
       "0    2022-04-27 04:00:00  38344.79  39463.17  38316.92  39179.01   646.587599   \n",
       "1    2022-04-26 04:00:00  40541.18  40783.69  37697.42  38344.79  1297.579024   \n",
       "2    2022-04-25 04:00:00  39260.92  40765.94  38221.87  40541.18  1370.403628   \n",
       "3    2022-04-24 04:00:00  39780.94  39933.07  38695.95  39260.92   515.669742   \n",
       "4    2022-04-23 04:00:00  39482.00  39988.99  39299.82  39780.94   402.215227   \n",
       "...                  ...       ...       ...       ...       ...          ...   \n",
       "2389 2015-10-12 04:00:00    248.98    248.98    245.75    245.75    71.047743   \n",
       "2390 2015-10-11 04:00:00    246.30    249.50    245.96    248.98    22.747091   \n",
       "2391 2015-10-10 04:00:00    245.51    246.30    244.60    246.30    30.870549   \n",
       "2392 2015-10-09 04:00:00    243.60    249.97    243.60    245.51    61.587068   \n",
       "2393 2015-10-08 04:00:00      0.00    245.00      0.00    243.60    34.754703   \n",
       "\n",
       "        Volume USD  \n",
       "0     2.533266e+07  \n",
       "1     4.975540e+07  \n",
       "2     5.555778e+07  \n",
       "3     2.024567e+07  \n",
       "4     1.600050e+07  \n",
       "...            ...  \n",
       "2389  1.745998e+04  \n",
       "2390  5.663571e+03  \n",
       "2391  7.603416e+03  \n",
       "2392  1.512024e+04  \n",
       "2393  8.466246e+03  \n",
       "\n",
       "[2394 rows x 7 columns]"
      ]
     },
     "execution_count": 39,
     "metadata": {},
     "output_type": "execute_result"
    }
   ],
   "source": [
    "btc2 = btc.copy()\n",
    "btc2"
   ]
  },
  {
   "cell_type": "code",
   "execution_count": 41,
   "id": "89375967-5e10-4680-9983-5c7997b3d6a0",
   "metadata": {},
   "outputs": [
    {
     "data": {
      "text/html": [
       "<div>\n",
       "<style scoped>\n",
       "    .dataframe tbody tr th:only-of-type {\n",
       "        vertical-align: middle;\n",
       "    }\n",
       "\n",
       "    .dataframe tbody tr th {\n",
       "        vertical-align: top;\n",
       "    }\n",
       "\n",
       "    .dataframe thead th {\n",
       "        text-align: right;\n",
       "    }\n",
       "</style>\n",
       "<table border=\"1\" class=\"dataframe\">\n",
       "  <thead>\n",
       "    <tr style=\"text-align: right;\">\n",
       "      <th></th>\n",
       "      <th>close</th>\n",
       "    </tr>\n",
       "    <tr>\n",
       "      <th>date</th>\n",
       "      <th></th>\n",
       "    </tr>\n",
       "  </thead>\n",
       "  <tbody>\n",
       "    <tr>\n",
       "      <th>2015-10-08 04:00:00</th>\n",
       "      <td>243.60</td>\n",
       "    </tr>\n",
       "    <tr>\n",
       "      <th>2015-10-09 04:00:00</th>\n",
       "      <td>245.51</td>\n",
       "    </tr>\n",
       "    <tr>\n",
       "      <th>2015-10-10 04:00:00</th>\n",
       "      <td>246.30</td>\n",
       "    </tr>\n",
       "    <tr>\n",
       "      <th>2015-10-11 04:00:00</th>\n",
       "      <td>248.98</td>\n",
       "    </tr>\n",
       "    <tr>\n",
       "      <th>2015-10-12 04:00:00</th>\n",
       "      <td>245.75</td>\n",
       "    </tr>\n",
       "    <tr>\n",
       "      <th>...</th>\n",
       "      <td>...</td>\n",
       "    </tr>\n",
       "    <tr>\n",
       "      <th>2022-04-23 04:00:00</th>\n",
       "      <td>39780.94</td>\n",
       "    </tr>\n",
       "    <tr>\n",
       "      <th>2022-04-24 04:00:00</th>\n",
       "      <td>39260.92</td>\n",
       "    </tr>\n",
       "    <tr>\n",
       "      <th>2022-04-25 04:00:00</th>\n",
       "      <td>40541.18</td>\n",
       "    </tr>\n",
       "    <tr>\n",
       "      <th>2022-04-26 04:00:00</th>\n",
       "      <td>38344.79</td>\n",
       "    </tr>\n",
       "    <tr>\n",
       "      <th>2022-04-27 04:00:00</th>\n",
       "      <td>39179.01</td>\n",
       "    </tr>\n",
       "  </tbody>\n",
       "</table>\n",
       "<p>2394 rows × 1 columns</p>\n",
       "</div>"
      ],
      "text/plain": [
       "                        close\n",
       "date                         \n",
       "2015-10-08 04:00:00    243.60\n",
       "2015-10-09 04:00:00    245.51\n",
       "2015-10-10 04:00:00    246.30\n",
       "2015-10-11 04:00:00    248.98\n",
       "2015-10-12 04:00:00    245.75\n",
       "...                       ...\n",
       "2022-04-23 04:00:00  39780.94\n",
       "2022-04-24 04:00:00  39260.92\n",
       "2022-04-25 04:00:00  40541.18\n",
       "2022-04-26 04:00:00  38344.79\n",
       "2022-04-27 04:00:00  39179.01\n",
       "\n",
       "[2394 rows x 1 columns]"
      ]
     },
     "execution_count": 41,
     "metadata": {},
     "output_type": "execute_result"
    }
   ],
   "source": [
    "btc2.drop(columns = [\"open\",\"high\",\"low\",\"Volume BTC\",\"Volume USD\"],inplace = True)\n",
    "btc2 = btc2[::-1]\n",
    "btc2.set_index(['date'],inplace=True)\n",
    "btc2"
   ]
  },
  {
   "cell_type": "code",
   "execution_count": 42,
   "id": "c2124ba3-526d-48fa-a0e5-fefc69908b24",
   "metadata": {},
   "outputs": [],
   "source": [
    "X = btc2.values\n",
    "train,test = X[0:len(X)-30],X[len(X)-30:]"
   ]
  },
  {
   "cell_type": "code",
   "execution_count": 43,
   "id": "467ac0a2-0917-40cf-bc7b-2fa8cbeac904",
   "metadata": {},
   "outputs": [],
   "source": [
    "model = ARIMA(train,order=(10,1,5))\n",
    "# The (p,d,q) order of the model for the number of AR parameters, differences, and MA parameters to use."
   ]
  },
  {
   "cell_type": "code",
   "execution_count": 44,
   "id": "ff608943-0a48-4dea-b0b7-e3f70a33b708",
   "metadata": {},
   "outputs": [
    {
     "name": "stderr",
     "output_type": "stream",
     "text": [
      "/opt/conda/lib/python3.7/site-packages/statsmodels/tsa/statespace/sarimax.py:966: UserWarning: Non-stationary starting autoregressive parameters found. Using zeros as starting parameters.\n",
      "  warn('Non-stationary starting autoregressive parameters'\n",
      "/opt/conda/lib/python3.7/site-packages/statsmodels/tsa/statespace/sarimax.py:978: UserWarning: Non-invertible starting MA parameters found. Using zeros as starting parameters.\n",
      "  warn('Non-invertible starting MA parameters found.'\n",
      "/opt/conda/lib/python3.7/site-packages/statsmodels/base/model.py:606: ConvergenceWarning: Maximum Likelihood optimization failed to converge. Check mle_retvals\n",
      "  ConvergenceWarning)\n"
     ]
    }
   ],
   "source": [
    "model_fit = model.fit()"
   ]
  },
  {
   "cell_type": "code",
   "execution_count": 45,
   "id": "f016c35f-d81d-4828-8aa7-b6d4ad6c3dc3",
   "metadata": {},
   "outputs": [],
   "source": [
    "predictions = model_fit.predict(start=len(train), end=len(train)+len(test)-1, dynamic=False)"
   ]
  },
  {
   "cell_type": "code",
   "execution_count": 46,
   "id": "97887fee-bd4e-4df6-9dc6-200052e36170",
   "metadata": {},
   "outputs": [
    {
     "name": "stdout",
     "output_type": "stream",
     "text": [
      "predicted=47534.260873, expected=47468.070000\n",
      "predicted=47369.346766, expected=47108.130000\n",
      "predicted=47378.613848, expected=44600.000000\n",
      "predicted=47342.669760, expected=46618.390000\n",
      "predicted=47429.270364, expected=45964.350000\n",
      "predicted=47601.738815, expected=46019.340000\n",
      "predicted=47658.235727, expected=46666.700000\n",
      "predicted=47905.634259, expected=45193.400000\n",
      "predicted=47750.177712, expected=43304.160000\n",
      "predicted=47865.372828, expected=43627.540000\n",
      "predicted=47594.483586, expected=42400.010000\n",
      "predicted=47698.062343, expected=42810.850000\n",
      "predicted=47590.730535, expected=42096.930000\n",
      "predicted=47769.758675, expected=39750.000000\n",
      "predicted=47829.334475, expected=40086.760000\n",
      "predicted=47901.691256, expected=41339.600000\n",
      "predicted=47938.878869, expected=40199.810000\n",
      "predicted=47799.254174, expected=40437.470000\n",
      "predicted=47821.069702, expected=40253.710000\n",
      "predicted=47646.983249, expected=39837.450000\n",
      "predicted=47789.331732, expected=40709.480000\n",
      "predicted=47725.438841, expected=41406.000000\n",
      "predicted=47921.458357, expected=41711.060000\n",
      "predicted=47877.804318, expected=40503.040000\n",
      "predicted=47939.522784, expected=39482.000000\n",
      "predicted=47850.736412, expected=39780.940000\n",
      "predicted=47785.550160, expected=39260.920000\n",
      "predicted=47771.625829, expected=40541.180000\n",
      "predicted=47723.630652, expected=38344.790000\n",
      "predicted=47849.638295, expected=39179.010000\n"
     ]
    }
   ],
   "source": [
    "for i in range(len(predictions)):\n",
    "    print('predicted=%f, expected=%f' % (predictions[i], test[i]))"
   ]
  },
  {
   "cell_type": "code",
   "execution_count": 47,
   "id": "bcf65df3-0a47-4e8a-a020-833b8ca88c1b",
   "metadata": {},
   "outputs": [
    {
     "name": "stdout",
     "output_type": "stream",
     "text": [
      "                               SARIMAX Results                                \n",
      "==============================================================================\n",
      "Dep. Variable:                      y   No. Observations:                 2364\n",
      "Model:                ARIMA(10, 1, 5)   Log Likelihood              -19288.510\n",
      "Date:                Fri, 29 Apr 2022   AIC                          38609.019\n",
      "Time:                        04:51:20   BIC                          38701.302\n",
      "Sample:                             0   HQIC                         38642.619\n",
      "                               - 2364                                         \n",
      "Covariance Type:                  opg                                         \n",
      "==============================================================================\n",
      "                 coef    std err          z      P>|z|      [0.025      0.975]\n",
      "------------------------------------------------------------------------------\n",
      "ar.L1          0.3386      0.250      1.356      0.175      -0.151       0.828\n",
      "ar.L2          0.9971      0.114      8.712      0.000       0.773       1.221\n",
      "ar.L3         -0.9257      0.148     -6.262      0.000      -1.215      -0.636\n",
      "ar.L4         -0.4674      0.115     -4.050      0.000      -0.694      -0.241\n",
      "ar.L5          0.6524      0.203      3.220      0.001       0.255       1.050\n",
      "ar.L6          0.0459      0.021      2.236      0.025       0.006       0.086\n",
      "ar.L7          0.0042      0.019      0.221      0.825      -0.033       0.042\n",
      "ar.L8         -0.0076      0.018     -0.432      0.665      -0.042       0.027\n",
      "ar.L9          0.0573      0.013      4.497      0.000       0.032       0.082\n",
      "ar.L10        -0.0378      0.025     -1.529      0.126      -0.086       0.011\n",
      "ma.L1         -0.3846      0.249     -1.545      0.122      -0.872       0.103\n",
      "ma.L2         -1.0071      0.104     -9.729      0.000      -1.210      -0.804\n",
      "ma.L3          1.0376      0.158      6.579      0.000       0.728       1.347\n",
      "ma.L4          0.4483      0.131      3.414      0.001       0.191       0.706\n",
      "ma.L5         -0.7240      0.211     -3.434      0.001      -1.137      -0.311\n",
      "sigma2      7.285e+05   7948.443     91.651      0.000    7.13e+05    7.44e+05\n",
      "===================================================================================\n",
      "Ljung-Box (L1) (Q):                   0.00   Jarque-Bera (JB):             28659.15\n",
      "Prob(Q):                              0.98   Prob(JB):                         0.00\n",
      "Heteroskedasticity (H):             125.16   Skew:                            -0.28\n",
      "Prob(H) (two-sided):                  0.00   Kurtosis:                        20.05\n",
      "===================================================================================\n",
      "\n",
      "Warnings:\n",
      "[1] Covariance matrix calculated using the outer product of gradients (complex-step).\n"
     ]
    }
   ],
   "source": [
    "print(model_fit.summary())"
   ]
  },
  {
   "cell_type": "code",
   "execution_count": 50,
   "id": "f53b320a-0fbb-4ea1-afbb-329acfc8ca5c",
   "metadata": {},
   "outputs": [
    {
     "name": "stdout",
     "output_type": "stream",
     "text": [
      "Test RMSE: 6184.682\n"
     ]
    },
    {
     "data": {
      "image/png": "[encoded data removed]",
      "text/plain": [
       "<Figure size 432x288 with 1 Axes>"
      ]
     },
     "metadata": {
      "needs_background": "light"
     },
     "output_type": "display_data"
    }
   ],
   "source": [
    "rmse = sqrt(mean_squared_error(test, predictions))\n",
    "print('Test RMSE: %.3f' % rmse)\n",
    "pyplot.plot(test)\n",
    "pyplot.plot(predictions, color='red')\n",
    "plt.savefig('btcarima.png')\n",
    "pyplot.show()"
   ]
  },
  {
   "cell_type": "code",
   "execution_count": 51,
   "id": "163ce29e-e04f-4556-9f48-d6fc6cfe555a",
   "metadata": {},
   "outputs": [],
   "source": [
    "from google.cloud import storage"
   ]
  },
  {
   "cell_type": "code",
   "execution_count": 52,
   "id": "8410a480-70fb-47c0-b613-214ce59263d8",
   "metadata": {},
   "outputs": [],
   "source": [
    "client = storage.Client()"
   ]
  },
  {
   "cell_type": "code",
   "execution_count": 53,
   "id": "117a2848-a4a3-4f4d-9da0-47cbe435a3d7",
   "metadata": {},
   "outputs": [],
   "source": [
    "bucket = client.get_bucket('crypto-project')"
   ]
  },
  {
   "cell_type": "code",
   "execution_count": 54,
   "id": "f7cd8947-4f2d-4d6f-aa47-5f1072c8b559",
   "metadata": {},
   "outputs": [],
   "source": [
    "blob = bucket.blob('btc.png')\n",
    "blob.upload_from_filename('btc.png')"
   ]
  },
  {
   "cell_type": "code",
   "execution_count": 55,
   "id": "6f87ea25-eb51-4223-9d2d-d4c419a4bdc5",
   "metadata": {},
   "outputs": [],
   "source": [
    "blob = bucket.blob('btcarima.png')\n",
    "blob.upload_from_filename('btcarima.png')"
   ]
  },
  {
   "cell_type": "markdown",
   "id": "eb704ded-6010-443b-91a5-cf7371cc1648",
   "metadata": {},
   "source": [
    "## Results\n",
    "### Using arima, we were not able to accurately predict the price of Bitcoin. The algorithm predicted the price of bitcoin to remain stable but the price dropped dramatically. This is to be somewhat expected as Bitcoin and all cryptocrrencies follow an erratic pattern. "
   ]
  },
  {
   "cell_type": "markdown",
   "id": "9cb79844-0d48-4071-a434-c88920d5ed92",
   "metadata": {},
   "source": [
    "## Discussion \n",
    "### "
   ]
  },
  {
   "cell_type": "markdown",
   "id": "1788c9c9-0add-4a2a-861a-f40dc5f68974",
   "metadata": {},
   "source": [
    "## Conclusion \n",
    "### "
   ]
  },
  {
   "cell_type": "markdown",
   "id": "879cfab4-e0c4-488f-a1d3-19cdb94f1c8b",
   "metadata": {},
   "source": [
    "## References\n",
    "### 1. https://www.qwiklabs.com/focuses/1846?catalog_rank=%7B%22rank%22%3A1%2C%22num_filters%22%3A0%2C%22has_search%22%3Atrue%7D&parent=catalog&search_id=7008005\n",
    "### 2. https://cloud.google.com/ai-platform/training/docs/working-with-cloud-storage\n",
    "### 3. https://www.cryptodatadownload.com/\n",
    "### 4. https://github.com/googleapis/python-storage\n",
    "### 5. https://stackoverflow.com/questions/37003862/how-to-upload-a-file-to-google-cloud-storage-on-python-3"
   ]
  },
  {
   "cell_type": "code",
   "execution_count": null,
   "id": "e51b6636-3f8c-4b4e-b1a7-af04dc5652d1",
   "metadata": {},
   "outputs": [],
   "source": []
  }
 ],
 "metadata": {
  "environment": {
   "kernel": "python3",
   "name": "common-cpu.m91",
   "type": "gcloud",
   "uri": "gcr.io/deeplearning-platform-release/base-cpu:m91"
  },
  "kernelspec": {
   "display_name": "Python 3",
   "language": "python",
   "name": "python3"
  },
  "language_info": {
   "codemirror_mode": {
    "name": "ipython",
    "version": 3
   },
   "file_extension": ".py",
   "mimetype": "text/x-python",
   "name": "python",
   "nbconvert_exporter": "python",
   "pygments_lexer": "ipython3",
   "version": "3.7.12"
  }
 },
 "nbformat": 4,
 "nbformat_minor": 5
}
